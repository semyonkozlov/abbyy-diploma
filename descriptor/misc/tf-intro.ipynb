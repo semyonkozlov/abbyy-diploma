{
 "cells": [
  {
   "cell_type": "markdown",
   "metadata": {},
   "source": [
    "<img src=\"https://habrastorage.org/files/063/6d1/1af/0636d11afa654531b08986cc3ff1b4ca.png\" align='right'> Здравствуй, Хабр! \n",
    "\n",
    "Цикл статей по инструментам для обучения нейронных сетей продолжается обзором популярного фреймворка Tensorflow.\n",
    "\n",
    "Tensorflow (далее - TF) - довольно молодой фреймворк для глубокого машинного обучения, разрабатываемый в Google Brain. Долгое время фреймворк разрабатывался в закрытом режиме под названием DistBelief, но после глобального рефакторинга 9 ноября 2015 года был выпущен в open source. За год с небольшим TF дорос до версии 1.0, обрел интеграцию с keras, стал значительно быстрее и получил поддержку мобильных платформ. В последнее время фреймворк развивается еще и в сторону классических методов, и в некоторых частях интерфейса уже чем-то напоминает scikit-learn. До текущей версии интерфейс менялся активно и часто, но разработчики пообещали заморозить изменения в API. Мы будем рассматривать только Python API, хотя это не единственный вариант - также существуют интерфейсы для C++ и мобильных платформ.\n",
    " <habracut/>"
   ]
  },
  {
   "cell_type": "markdown",
   "metadata": {},
   "source": [
    "## Установка\n",
    "\n",
    "TF устанавливается стандартно через python pip. Есть нюанс: существуют отдельные алгоритмы установки для работы на CPU и на видеокартах.  \n",
    "\n",
    "В случае с CPU всё просто: нужно поставить из pip пакет под названием tensorflow.\n",
    "\n",
    "Во втором случае нужно:\n",
    "1. проверить совместимость с видеокартой. Параметр CUDA Compute Capability должен быть больше 3.0, найти его для своей видеокарты можно [тут](https://developer.nvidia.com/cuda-gpus)\n",
    "2. Установить [CUDA Toolkit](https://developer.nvidia.com/cuda-downloads) восьмой версии\n",
    "3. Установить [cuDNN](https://developer.nvidia.com/cudnn) версии 5.1\n",
    "4. Установить из pip пакет tensorflow-gpu\n",
    "\n",
    "Впрочем, документация утверждает, что поддерживаются и более ранние версии CUDA Toolkit и cuDNN, но рекомендует устанавливать версии, указанные выше.\n",
    "\n",
    "Разработчики рекомендуют устанавливать TF в отдельную среду с virtualenv, чтобы избежать возможные проблемы с версионированием и зависимостями.\n",
    "\n",
    "Еще один вариант установки - Docker. По умолчанию из контейнера будет работать только CPU-версия, но если использовать специальный [nvidia docker](https://github.com/NVIDIA/nvidia-docker), то можно использовать и GPU.\n",
    "\n",
    "Сам я не пробовал, но говорят, что TF работает даже с Windows. Установка проводится через тот же pip и, говорят, работает без проблем.  \n",
    "\n",
    "Я пропускаю процесс сборки из исходников, однако и такой вариант может иметь смысл. Дело в том, что пакет из репозитория собирается без поддержки SSE и прочих плюшек. В последних версиях TF проверяет наличие таких плюшек и сообщает, что из исходников он будет работать быстрее.\n",
    "\n",
    "Подробно процесс установки описан [тут](https://www.tensorflow.org/install/).\n",
    "\n"
   ]
  },
  {
   "cell_type": "markdown",
   "metadata": {},
   "source": [
    "## Документация\n",
    "\n",
    "Документации и примеров очень много.\n",
    "* [Официальный сайт](https://www.tensorflow.org)\n",
    "* [Официальные туториалы](https://www.tensorflow.org/get_started/get_started)\n",
    "* [Awesome-list - подборка всего самого наилучшего по теме](https://github.com/jtoy/awesome-tensorflow)\n",
    "* [Отличный сборник разных моделей на TF](https://github.com/tensorflow/models/)\n",
    "\n",
    "Лучше всего ориентироваться на официальную документацию - из-за быстрого развития и частой смены api, в интернете очень много туториалов и скриптов, которые ориентированы на старые версии (ну как старые... полугодовой давности) со старым API, они не будут работать с последними версиями фреймворка."
   ]
  },
  {
   "cell_type": "markdown",
   "metadata": {},
   "source": [
    "## Базовые элементы TF\n",
    "\n",
    "С помощью «Hello, world» убедимся, что всё установилось правильно:"
   ]
  },
  {
   "cell_type": "code",
   "execution_count": 1,
   "metadata": {},
   "outputs": [
    {
     "name": "stdout",
     "output_type": "stream",
     "text": [
      "b'Hello, TensorFlow!'\n"
     ]
    }
   ],
   "source": [
    "import tensorflow as tf # подключаем TF\n",
    "hello = tf.constant('Hello, TensorFlow!') # создаем объект из TF\n",
    "sess = tf.InteractiveSession() # создаем сессию\n",
    "print(sess.run(hello)) #сессия \"выполняет\" объект"
   ]
  },
  {
   "cell_type": "markdown",
   "metadata": {},
   "source": [
    "Первой же строчкой подключаем TF. Уже сложилось правило вводить для фреймворка соответствующее сокращение. Этот же кусочек кода встречается в документации и позволяет удостовериться в том, что всё установилось правильно."
   ]
  },
  {
   "cell_type": "markdown",
   "metadata": {},
   "source": [
    "### Граф вычислений\n",
    "\n",
    "Работа c TF строится вокруг построения и выполнения графа вычислений. Граф вычислений - это конструкция, которая описывает то, каким образом будут проводиться вычисления. В классическом императивном программировании мы пишем код, который выполняется построчно. В TF привычный императивный подход к программированию необходим только для каких-то вспомогательных целей. Основа TF - это создание структуры, задающей порядок вычислений. Программы естественным образом структурируются на две части - составление графа вычислений и выполнение вычислений в созданных структурах.  \n",
    "\n",
    "Граф вычислений в TF по смыслу не отличается от такового в Theano. В [предыдущей статье](https://habrahabr.ru/company/ods/blog/323272/#predislovie-ili-liricheskoe-otstuplenie-o-bibliotekah-dlya-glubokogo-obucheniya) цикла дано отличное описание этой сущности. \n",
    "\n",
    "В TF граф состоит из плейсхолдеров, переменных и операций. Из этих элементов можно собрать граф, в котором будут вычисляться тензоры. Тензоры - многомерные массивы, они служат «топливом» для графа. Тензором может быть как отдельное число, вектор признаков из решаемой задачи или изображение, так и целый батч описаний объектов или массив из изображений. Вместо одного объекта мы можем передать в граф массив объектов и для него будет вычислен массив ответов. Работа TF с тензорами похожа на то, как обрабатывает массивы numpy, в функциях которого можно указать ось массива, относительно которой будет выполняться вычисление."
   ]
  },
  {
   "cell_type": "markdown",
   "metadata": {},
   "source": [
    "### Сессии\n",
    "\n",
    "Вычислительные графы выполняются в сессиях. Объект сессии (`tf.Session`) скрывает в себе контекст выполнения графа - необходимые ресурсы, вспомогательные классы, адресные пространства.\n",
    "Существует два типа сессий - обычные, которые реализованы в [tf.Session](https://www.tensorflow.org/api_docs/python/tf/Session) и интерактивные ([tf.InteractiveSession](https://www.tensorflow.org/api_docs/python/tf/InteractiveSession)). Разница между ними в том, что интерактивная сессия больше подходит для выполнения в консоли и сразу определяет себя как сессия по умолчанию. Основной эффект - объект сессии не нужно передавать в функции вычисления как параметр. В примерах далее я буду считать, что в данный момент работает интерактивная сессия, которую мы объявили в первом примере, и когда понадобится обращение к сессии, буду обращаться к объекту ```sess```.\n",
    "\n",
    "Далее в посте будут появляться стандартные для TF картинки с изображениями графов, сгенерированные встроенной утилитой под названием Tensorboard. Обозначения там вот такие:\n",
    "\n",
    "<table>\n",
    "<tr>\n",
    "<th>Переменная</th>\n",
    "<th>Операция</th>\n",
    "<th>Вспомогательный результат</th>\n",
    "</tr>\n",
    "<tr>\n",
    "\n",
    "<td>Узел графа обычно содержит данные.</td>\n",
    "<td>Делает что-то с переменными. Сюда же относятся плейсхолдеры, которые делают подстановку значений в граф.</td>\n",
    "<td>Всякое кэширование и побочные вычисления типа градиентов, обычно так обозначают ссылку на отдельную часть графа.</td>\n",
    "</tr>\n",
    "<tr>\n",
    "<td>\n",
    "<img src=\"https://habrastorage.org/files/720/db6/88e/720db688e60042b59a8d68204421c401.png\"/>\n",
    "</td>\n",
    "<td>\n",
    "<img src=\"https://habrastorage.org/files/191/4b2/a19/1914b2a19b6d431d889ecbe96c66d891.png\"/>\n",
    "</td>\n",
    "<td>\n",
    "<img src=\"https://habrastorage.org/files/145/d34/cb7/145d34cb71d242759b0afaa4e10772b7.png\"/>\n",
    "</td>\n",
    "</tr>\n",
    "</table>\n"
   ]
  },
  {
   "cell_type": "markdown",
   "metadata": {},
   "source": [
    "\n",
    "### Тензоры, операции и переменные\n",
    "\n",
    "Создадим, к примеру, тензор, заполненный нулями.\n",
    "\n"
   ]
  },
  {
   "cell_type": "code",
   "execution_count": 2,
   "metadata": {
    "collapsed": true
   },
   "outputs": [],
   "source": [
    "zeros_tensor = tf.zeros([3,3])"
   ]
  },
  {
   "cell_type": "markdown",
   "metadata": {},
   "source": [
    "Вообще, API в TF будет во многом напоминать numpy и `tf.zeros()` - далеко не единственная функция, имеющая прямой аналог в numpy. Чтобы увидеть значение тензора, его нужно выполнить. Подробнее о выполнении графа чуть ниже, пока что обойдемся тем, что выведем значение тензора и сам тензор."
   ]
  },
  {
   "cell_type": "code",
   "execution_count": 3,
   "metadata": {},
   "outputs": [
    {
     "name": "stdout",
     "output_type": "stream",
     "text": [
      "[[ 0.  0.  0.]\n",
      " [ 0.  0.  0.]\n",
      " [ 0.  0.  0.]]\n",
      "Tensor(\"zeros:0\", shape=(3, 3), dtype=float32)\n"
     ]
    }
   ],
   "source": [
    "print(zeros_tensor.eval())\n",
    "print(zeros_tensor)"
   ]
  },
  {
   "cell_type": "markdown",
   "metadata": {},
   "source": [
    "Различие между строчками состоит в том, что в первой строке происходит вычисление тензора, а во второй строке мы просто печатаем представление объекта.\n",
    "\n",
    "Описание тензора показывает нам несколько важных вещей:\n",
    "1. У тензоров есть имена. У нашего оно zeros:0\n",
    "2. Существует понятие формы тензора, оно похоже на размерность массива из numpy.\n",
    "3. Тензоры типизированы и типы для них задаются из библиотеки.\n",
    "\n",
    "Над тензорами  можно совершать разнообразные операции:  "
   ]
  },
  {
   "cell_type": "code",
   "execution_count": 4,
   "metadata": {},
   "outputs": [
    {
     "name": "stdout",
     "output_type": "stream",
     "text": [
      "[[-0.14285594 -0.55564964]\n",
      " [-0.74506664 -0.01631433]]\n",
      "[[-0.40496981 -1.10837376]\n",
      " [ 0.67872989 -0.95549375]]\n",
      "[[ 0.31981421 -0.1315126 ]\n",
      " [-0.35955891 -0.24150486]]\n",
      "[[ 0.06583507  0.06583507]\n",
      " [ 1.36485851  1.36485851]]\n"
     ]
    }
   ],
   "source": [
    "a = tf.truncated_normal([2,2])\n",
    "b = tf.fill([2,2], 0.5)\n",
    "print(sess.run(a+b))\n",
    "print(sess.run(a-b))\n",
    "print(sess.run(a*b))\n",
    "print(sess.run(tf.matmul(a,b)))"
   ]
  },
  {
   "cell_type": "markdown",
   "metadata": {},
   "source": [
    "В примере выше мы используем конструкцию `sess.run` - это метод исполнения операций графа в сессии. В первой строчке я создал тензор из усеченного нормального распределения. Для него используется стандартная генерация нормального распределения, но из него исключается всё, что выпадает за пределы двух стандартных отклонений. Помимо этого генератора есть равномерное, простое нормальное, гамма и еще несколько других распределений. Очень характерная для TF штука - уже реализовано большинство популярных вариантов выполнения операции и, возможно, перед изобретением велосипеда стоит взглянуть на документацию. Второй тензор - это заполненный значением 0.5 многомерный массив размера 2х2 и это что-то похожее на numpy и его функции создания многомерных массивов.\n",
    "\n",
    "Создадим теперь переменную на основе тензора:"
   ]
  },
  {
   "cell_type": "code",
   "execution_count": 5,
   "metadata": {
    "collapsed": true
   },
   "outputs": [],
   "source": [
    "v = tf.Variable(zeros_tensor)"
   ]
  },
  {
   "cell_type": "markdown",
   "metadata": {},
   "source": [
    "Переменная участвует в вычислениях в качестве узла вычислительного графа, сохраняет состояние, и ей нужна какая-нибудь инициализация. Так, если в следующем примере обойтись без первой строчки, то TF выкинет исключение."
   ]
  },
  {
   "cell_type": "code",
   "execution_count": 6,
   "metadata": {},
   "outputs": [
    {
     "data": {
      "text/plain": [
       "array([[ 0.,  0.,  0.],\n",
       "       [ 0.,  0.,  0.],\n",
       "       [ 0.,  0.,  0.]], dtype=float32)"
      ]
     },
     "execution_count": 6,
     "metadata": {},
     "output_type": "execute_result"
    }
   ],
   "source": [
    "sess.run(v.initializer)\n",
    "v.eval()"
   ]
  },
  {
   "cell_type": "markdown",
   "metadata": {},
   "source": [
    "\n",
    "Операции над переменными создают вычислительный граф, который можно потом выполнить. Еще есть плейсхолдеры - объекты, которые параметризуют граф и отмечают места для подстановки внешних значений. Как написано в официальной документации, плейсхолдер - это обещание подставить значение потом. Создадим плейсхолдер и назначаем ему тип данных и размер:\n"
   ]
  },
  {
   "cell_type": "code",
   "execution_count": 7,
   "metadata": {
    "collapsed": true
   },
   "outputs": [],
   "source": [
    "x = tf.placeholder(tf.float32, shape=(4, 4))"
   ]
  },
  {
   "cell_type": "markdown",
   "metadata": {},
   "source": [
    "Еще такой пример использования. Здесь два плейсхолдера служат входными узлами для сумматора:"
   ]
  },
  {
   "cell_type": "code",
   "execution_count": 8,
   "metadata": {},
   "outputs": [
    {
     "name": "stdout",
     "output_type": "stream",
     "text": [
      "50000.0\n"
     ]
    }
   ],
   "source": [
    "a = tf.placeholder(\"float\")\n",
    "b = tf.placeholder(\"float\")\n",
    "y = tf.multiply(a, b)\n",
    "print(sess.run(y, feed_dict={a:100,b:500}))\n"
   ]
  },
  {
   "cell_type": "markdown",
   "metadata": {},
   "source": [
    "### Простейшие вычисления.\n",
    "\n",
    "В качестве примера создадим и вычислим несколько выражений."
   ]
  },
  {
   "cell_type": "code",
   "execution_count": 9,
   "metadata": {},
   "outputs": [
    {
     "data": {
      "text/plain": [
       "121.0"
      ]
     },
     "execution_count": 9,
     "metadata": {},
     "output_type": "execute_result"
    }
   ],
   "source": [
    "x = tf.placeholder(tf.float32)\n",
    "f =  1 + 2* x + tf.pow(x,2)\n",
    "sess.run(f, feed_dict={x:10})"
   ]
  },
  {
   "cell_type": "markdown",
   "metadata": {},
   "source": [
    "И граф вычисления:\n",
    "<img src=\"https://habrastorage.org/files/1c4/5ed/13f/1c45ed13fd8f4fa48850b6ab208ec8fd.png\" align='center'/>\n",
    "```x``` и ```y```, указывающие на операции в этой схеме  - это дополнительные параметры, вместо которых могли бы быть ребра графа, но мы подставили в ```f``` скалярные значения  1 и 2 и это просто обозначение в графе для чисел. В этом примере мы создаем плейсхолдер и на его основе - граф выражения $inline$1+2x+x^2$inline$, а после этого выполняем вычисления графа в контексте текущей сессии. Я не указал форму в параметрах плейсхолдера и это значит, что можно подавать на вход тензоры любых размеров. Единственное, что необходимо указать - это тип тензора. Параметры при вычислении внутрь сессии передаются через ```feed_dict``` - словарь со всем, что необходимо для вычислений.\n",
    "\n",
    "Попробуем собрать что-нибудь более практически значимое.\n",
    "Вот, например, сигмоида: $$\\sigma(x) = \\frac{1}{1 + e^{-x}} $$\n"
   ]
  },
  {
   "cell_type": "code",
   "execution_count": 10,
   "metadata": {},
   "outputs": [
    {
     "data": {
      "text/plain": [
       "array([ 0.00669285,  0.00819568,  0.01003255,  0.01227603,  0.01501357,\n",
       "        0.01835024,  0.02241159,  0.02734679,  0.03333168,  0.04057176,\n",
       "        0.04930425,  0.05979915,  0.07235796,  0.0873094 ,  0.10500059,\n",
       "        0.12578245,  0.14998817,  0.17790413,  0.20973383,  0.24555731,\n",
       "        0.28529069,  0.32865256,  0.3751457 ,  0.42406148,  0.47451192,\n",
       "        0.52548808,  0.57593852,  0.62485433,  0.67134744,  0.71470934,\n",
       "        0.75444269,  0.79026616,  0.82209587,  0.85001183,  0.87421757,\n",
       "        0.89499938,  0.91269064,  0.92764211,  0.94020081,  0.95069569,\n",
       "        0.95942819,  0.96666825,  0.97265327,  0.97758842,  0.98164982,\n",
       "        0.98498636,  0.98772395,  0.98996747,  0.99180436,  0.99330717], dtype=float32)"
      ]
     },
     "execution_count": 10,
     "metadata": {},
     "output_type": "execute_result"
    }
   ],
   "source": [
    "import numpy as np\n",
    "x = tf.placeholder(dtype=tf.float32)\n",
    "sigma = 1 / (1 + tf.exp(-x))\n",
    "sigma.eval(feed_dict={x: np.linspace(-5,5) })"
   ]
  },
  {
   "cell_type": "markdown",
   "metadata": {},
   "source": [
    "И вот такой граф для неё.\n",
    "\n",
    "<img src=\"https://habrastorage.org/files/f07/d29/c67/f07d29c67e174a42aebcdc9589653dec.png\" align='center'/>\n",
    "\n",
    "\n",
    "В фрагменте с запуском вычисления функции есть один момент, который отличает этот пример от предыдущих. Дело в том, что в плейсхолдер вместо одного скалярного значения мы передаем целый массив. TF обрабатывает все значения массива вместе, в рамках одного тензора (помним, что массив == тензор). Точно таким же образом мы можем передавать в граф объекты целыми батчами и поставлять нейронной сети картинки целиком.\n",
    "\n",
    "В целом работа с тензорами напоминает работу с массивами в numpy. Однако, есть некоторые отличия. Когда мы хотим понизить размерность, каким-либо образом объединив значения в тензоре по определенному измерению, мы пользуемся теми функциями, которые начинаются с <a href=\"https://www.tensorflow.org/api_guides/python/math_ops#Reduction\">reduce_</a>.  \n",
    "Если сравнить c API Theano - в TF нет деления на векторы и матрицы, но вместо этого приходится следить за размерностями тензоров в графе и есть механизм вывода формы тензора, который позволяет получить размерности еще до runtime.\n"
   ]
  },
  {
   "cell_type": "markdown",
   "metadata": {},
   "source": [
    "## Машинное обучение\n",
    "\n",
    "Разберем для начала уже не раз упоминавшуюся здесь классическую линейную регрессию, с детальным описанием которой можно ознакомиться [тут](https://habrahabr.ru/company/ods/blog/322076/), однако для обучения будем использовать метод градиентного спуска.\n",
    "\n",
    "<img src='https://habrastorage.org/getpro/habr/comment_images/caf/f57/dfc/caff57dfca0f0a3a7ad50d486d4b3531.png' align='center'/>\n",
    "*Куда же без этой картинки*\n",
    "\n",
    "\n",
    "Начну с линейной регрессии, а потом добавлю полиномиальные признаки."
   ]
  },
  {
   "cell_type": "markdown",
   "metadata": {},
   "source": [
    "Импортируем библиотеки:"
   ]
  },
  {
   "cell_type": "code",
   "execution_count": 23,
   "metadata": {},
   "outputs": [],
   "source": [
    "import os\n",
    "import numpy as np\n",
    "import tensorflow as tf\n",
    "import tqdm\n",
    "import matplotlib.pyplot as plt\n",
    "import seaborn\n",
    "%matplotlib inline"
   ]
  },
  {
   "cell_type": "markdown",
   "metadata": {},
   "source": [
    "И сбросим состояние графа:"
   ]
  },
  {
   "cell_type": "code",
   "execution_count": 12,
   "metadata": {
    "collapsed": true
   },
   "outputs": [],
   "source": [
    "from tensorflow.python.framework import ops\n",
    "ops.reset_default_graph()\n",
    "sess =tf.InteractiveSession()"
   ]
  },
  {
   "cell_type": "markdown",
   "metadata": {},
   "source": [
    "Данные будут синтетические - синус с нормальным шумом:"
   ]
  },
  {
   "cell_type": "code",
   "execution_count": 13,
   "metadata": {
    "collapsed": true
   },
   "outputs": [],
   "source": [
    "# создадим выборку\n",
    "x = np.linspace(0,10, 1000)\n",
    "y = np.sin(x) + np.random.normal(size=len(x))"
   ]
  },
  {
   "cell_type": "code",
   "execution_count": 24,
   "metadata": {
    "scrolled": true
   },
   "outputs": [
    {
     "data": {
      "image/png": "[encoded data removed]",
      "text/plain": [
       "<matplotlib.figure.Figure at 0x7f5fc3ca5e48>"
      ]
     },
     "metadata": {},
     "output_type": "display_data"
    }
   ],
   "source": [
    "plt.plot(x,y)\n",
    "plt.show()"
   ]
  },
  {
   "cell_type": "markdown",
   "metadata": {},
   "source": [
    "Перемешаем выборку и разобьем её на тренировочную и контрольную части"
   ]
  },
  {
   "cell_type": "code",
   "execution_count": 15,
   "metadata": {
    "collapsed": true
   },
   "outputs": [],
   "source": [
    "train_idxes = np.random.choice(list(range(len(x))), 3 * len(x)//4)\n",
    "test_idxes = np.array(range(len(x)))\n",
    "test_idxes = np.delete(test_idxes, train_idxes)\n",
    "\n",
    "X_Train = x[train_idxes]\n",
    "Y_Train = y[train_idxes]\n",
    "\n",
    "X_Test = x[test_idxes]\n",
    "Y_Test = y[test_idxes]"
   ]
  },
  {
   "cell_type": "markdown",
   "metadata": {},
   "source": [
    "Создадим граф:"
   ]
  },
  {
   "cell_type": "code",
   "execution_count": 16,
   "metadata": {
    "collapsed": true
   },
   "outputs": [],
   "source": [
    "x_ = tf.placeholder(name=\"input\", shape=[None, 1], dtype=tf.float32)\n",
    "y_ = tf.placeholder(name= \"output\", shape=[None, 1], dtype=tf.float32)\n",
    "model_output = tf.Variable(tf.random_normal([1]), name='bias') + tf.Variable(tf.random_normal([1]), name='k') * x_"
   ]
  },
  {
   "cell_type": "markdown",
   "metadata": {},
   "source": [
    "Нюанс - в плейсхолдере параметр формы (shape) содержит None. Размерность плейсхолдера означает, что плейсходер потребляет двумерные тензоры, но по одной из осей размер тензора не определен и может быть любым. Это сделано для того, чтобы пользователь мог передавать значения в граф сразу целыми батчами. Такие специфические размерности называют динамическими, TF рассчитывает действительную размерность связанных элементов во время выполнения графа.\n",
    "\n",
    "\n",
    "Плейсхолдер для признака используется в формуле, а вот плейсхолдер для ответа я подставлю в функцию потерь $\\frac{1}{n}\\sum^{n}_{i=1}(y_i - \\hat{y}_i)^2$:"
   ]
  },
  {
   "cell_type": "code",
   "execution_count": 17,
   "metadata": {
    "collapsed": true
   },
   "outputs": [],
   "source": [
    "loss = tf.reduce_mean(tf.pow(y_ - model_output, 2)) # функция потерь"
   ]
  },
  {
   "cell_type": "markdown",
   "metadata": {},
   "source": [
    "В TF реализован десяток методов оптимизации. Мы будем использовать классический градиентный спуск, указав ему в параметрах скорость обучения.\n",
    "\n",
    "Метод minimize создаст нам операцию, вычисление которой будет минимизировать функцию потерь."
   ]
  },
  {
   "cell_type": "code",
   "execution_count": 18,
   "metadata": {
    "collapsed": true
   },
   "outputs": [],
   "source": [
    "gd = tf.train.GradientDescentOptimizer(0.0001) #оптимизатор\n",
    "train_step = gd.minimize(loss)"
   ]
  },
  {
   "cell_type": "markdown",
   "metadata": {},
   "source": [
    "Инициализация переменных - она необходима для дальнейших вычислений:"
   ]
  },
  {
   "cell_type": "code",
   "execution_count": 19,
   "metadata": {
    "collapsed": true
   },
   "outputs": [],
   "source": [
    "sess.run(tf.global_variables_initializer())"
   ]
  },
  {
   "cell_type": "markdown",
   "metadata": {},
   "source": [
    "Первое выполнение сессией одновременно операций `train_step` и `loss` делает сразу и обучение, и оценку ошибки на обучающей выборке, т.е. собственно оценку того, как хорошо мы запомнили выборку. Второе выполнение сессии - подсчет потерь на тестовой выборке. В параметре `feed_dict` я передаю в граф значения для плейсхолдеров и делаю `reshape` для того, чтобы массивы данных совпадали по размерности. Там, где в плейсхолдере стояло значение `None`, можно передать любое число. Тензоры с такими неопределенными размерами называются динамическими, и вот тут я их использую, чтобы передавать в граф батчи с примерами для обучения."
   ]
  },
  {
   "cell_type": "code",
   "execution_count": 20,
   "metadata": {},
   "outputs": [
    {
     "name": "stderr",
     "output_type": "stream",
     "text": [
      "Widget Javascript not detected.  It may not be installed or enabled properly.\n"
     ]
    },
    {
     "data": {
      "application/vnd.jupyter.widget-view+json": {
       "model_id": "a414c0d51e8b460e95fe4119a5652583"
      }
     },
     "metadata": {},
     "output_type": "display_data"
    },
    {
     "name": "stdout",
     "output_type": "stream",
     "text": [
      "\n"
     ]
    }
   ],
   "source": [
    "n_epochs = 100\n",
    "train_errors = []\n",
    "test_errors = []\n",
    "for i in tqdm.tqdm_notebook(range(n_epochs)):\n",
    "    _, train_err = sess.run([train_step, loss ], feed_dict={x_:X_Train.reshape((len(X_Train),1)) , y_: Y_Train.reshape((len(Y_Train),1))})\n",
    "    train_errors.append(train_err)\n",
    "    test_errors.append(sess.run(loss, feed_dict={x_:X_Test.reshape((len(X_Test),1)) , y_: Y_Test.reshape((len(Y_Test),1))}))    "
   ]
  },
  {
   "cell_type": "markdown",
   "metadata": {},
   "source": [
    "Получается вот такая динамика обучения:"
   ]
  },
  {
   "cell_type": "code",
   "execution_count": 21,
   "metadata": {
    "scrolled": true
   },
   "outputs": [
    {
     "data": {
      "image/png": "[encoded data removed]",
      "text/plain": [
       "<matplotlib.figure.Figure at 0x7f5fc3d46358>"
      ]
     },
     "metadata": {},
     "output_type": "display_data"
    }
   ],
   "source": [
    "plt.plot(list(range(n_epochs)), train_errors, label = 'train' )\n",
    "plt.plot(list(range(n_epochs)), test_errors, label='test') \n",
    "plt.legend()\n",
    "plt.savefig('lin_reg.png')\n",
    "plt.show()"
   ]
  },
  {
   "cell_type": "markdown",
   "metadata": {},
   "source": [
    "В этом графе присутствуют вспомогательные переменные с градиентами и операции инициализации, они вынесены в отдельный блок.\n",
    "\n",
    "<img src=\"https://habrastorage.org/files/87c/930/515/87c93051519f4eacb7b6f285768a1cf7.png\" align='center'/>\n"
   ]
  },
  {
   "cell_type": "markdown",
   "metadata": {},
   "source": [
    "А вот и результаты вычисления модели.\n"
   ]
  },
  {
   "cell_type": "code",
   "execution_count": 22,
   "metadata": {},
   "outputs": [
    {
     "data": {
      "image/png": "[encoded data removed]",
      "text/plain": [
       "<matplotlib.figure.Figure at 0x7f5fc5dd5e80>"
      ]
     },
     "metadata": {},
     "output_type": "display_data"
    }
   ],
   "source": [
    "plt.plot(x, y)\n",
    "plt.plot(x,sess.run(model_output, feed_dict={x_:x.reshape((len(x),1))}))\n",
    "plt.savefig(\"lr_forward_pass.png\")"
   ]
  },
  {
   "cell_type": "markdown",
   "metadata": {},
   "source": [
    "Результат получился предсказуемым для такой простой линейной модели."
   ]
  },
  {
   "cell_type": "markdown",
   "metadata": {},
   "source": [
    "### Полиномиальная регрессия\n",
    "\n",
    "Попробуем разнообразить регрессию полиномиальными признаками, регуляризацией и изменением скорости обучения модели."
   ]
  },
  {
   "cell_type": "code",
   "execution_count": 25,
   "metadata": {
    "collapsed": true
   },
   "outputs": [],
   "source": [
    "from tensorflow.python.framework import ops\n",
    "ops.reset_default_graph()"
   ]
  },
  {
   "cell_type": "code",
   "execution_count": 26,
   "metadata": {
    "collapsed": true
   },
   "outputs": [],
   "source": [
    "order = 40\n",
    "sess =tf.InteractiveSession()"
   ]
  },
  {
   "cell_type": "markdown",
   "metadata": {},
   "source": [
    "создадим выборку заново:"
   ]
  },
  {
   "cell_type": "code",
   "execution_count": 27,
   "metadata": {},
   "outputs": [
    {
     "data": {
      "image/png": "[encoded data removed]",
      "text/plain": [
       "<matplotlib.figure.Figure at 0x7f5fc3c6a898>"
      ]
     },
     "metadata": {},
     "output_type": "display_data"
    }
   ],
   "source": [
    "x = np.linspace(0,4, 1000)\n",
    "y = np.sin(x) + np.random.normal(size=len(x))\n",
    "\n",
    "plt.plot(x,y)\n",
    "plt.savefig(\"data.png\")\n",
    "plt.show()"
   ]
  },
  {
   "cell_type": "markdown",
   "metadata": {},
   "source": [
    "В генерации набора данных добавим некоторое количество степеней и нормируем признаки с помощью PolynomialFeatures и StandardScaler из библиотеки scikit-learn. Первый объект создаст нам полиномиальных признаков сколько захотим, а второй нормирует их."
   ]
  },
  {
   "cell_type": "code",
   "execution_count": 28,
   "metadata": {},
   "outputs": [],
   "source": [
    "from sklearn.preprocessing import PolynomialFeatures, StandardScaler\n",
    "poly_features = PolynomialFeatures(degree=order-1)\n",
    "s = StandardScaler()\n",
    "x_poly = s.fit_transform(poly_features.fit_transform(x.reshape(1000,1)))"
   ]
  },
  {
   "cell_type": "markdown",
   "metadata": {},
   "source": [
    "Опять разобьем выборку:"
   ]
  },
  {
   "cell_type": "code",
   "execution_count": 29,
   "metadata": {
    "collapsed": true
   },
   "outputs": [],
   "source": [
    "shuffle_idxs =np.arange(len(x_poly))\n",
    "np.random.shuffle(shuffle_idxs)\n",
    "\n",
    "X_Train = x_poly[shuffle_idxs[:3*len(x)//4]]\n",
    "Y_Train = y[shuffle_idxs[:3*len(x)//4]]\n",
    "\n",
    "X_Test = x_poly[shuffle_idxs[3*len(x)//4:]]\n",
    "Y_Test = y[shuffle_idxs[3*len(x)//4:]]"
   ]
  },
  {
   "cell_type": "markdown",
   "metadata": {},
   "source": [
    "Для перехода к полиномиальной регрессии заменим всего несколько строк в графе вычислений."
   ]
  },
  {
   "cell_type": "code",
   "execution_count": 30,
   "metadata": {
    "collapsed": true
   },
   "outputs": [],
   "source": [
    "x_ = tf.placeholder(name=\"input\", shape=[None, order], dtype=tf.float32)\n",
    "y_ = tf.placeholder(name= \"output\", shape=[None, 1], dtype=tf.float32)\n",
    "w = tf.Variable(tf.random_normal([order,1]), name='weights')\n",
    "model_output = tf.matmul(x_,w)"
   ]
  },
  {
   "cell_type": "markdown",
   "metadata": {},
   "source": [
    "Фактически сейчас мы считаем $ model_{output} = \\sum^{order}_{i=1}x^i w_i$. Очевидно, существует опасность переобучения модели на ровном месте, поэтому добавим регуляризационные штрафы на веса. Штрафы добавим к функции потерь (loss в примерах) в виде дополнительных слагаемых и получим почти что ElasticNet из sklearn. $$loss = \\frac{1}{n}\\sum^{n}_{i=1}(y_i - \\hat{y}_i)^2+\\alpha\\sum{w}^2+\\beta\\sum|w|$$\n"
   ]
  },
  {
   "cell_type": "code",
   "execution_count": 31,
   "metadata": {
    "collapsed": true
   },
   "outputs": [],
   "source": [
    "loss = tf.reduce_mean(tf.pow(y_ - model_output, 2)) + 0.005* tf.nn.l2_loss(w) + 0.0005* tf.reduce_sum(tf.abs(w)) # функция потерь"
   ]
  },
  {
   "cell_type": "markdown",
   "metadata": {},
   "source": [
    "Для самой популярной L2-регрессии существует отдельная функция ```l2_loss```, а вот отбор признаков с помощью L1 придется реализовать вручную, но у нас это будет среднее по всем абсолютным значениям весов.\n",
    "Ради примера добавлю еще одно существенное изменение, которое коснется темпа обучения. Довольно часто при обучении тяжелых нейросетей это просто необходимая мера для того, чтобы избежать проблем с обучением и получить приемлемый результат. Очень простая идея - по мере обучения постепенно понижать параметр шага, избегая больших неприятностей.\n",
    "Вместо константного темпа будем использовать экспоненциальное затухание, которое я взял прямиком из документации:"
   ]
  },
  {
   "cell_type": "code",
   "execution_count": 32,
   "metadata": {
    "collapsed": true
   },
   "outputs": [],
   "source": [
    "global_step = tf.Variable(0, trainable=False)\n",
    "starter_learning_rate = 0.01\n",
    "learning_rate = tf.train.exponential_decay(starter_learning_rate, global_step,\n",
    "                                       100000, 0.96, staircase=True)"
   ]
  },
  {
   "cell_type": "markdown",
   "metadata": {},
   "source": [
    "Внутри функции скрывается формула: \n",
    "$$learning\\_rate_{decayed} = learning\\_rate * decay\\_rate^{\\frac{global\\_step}{decay\\_steps}}$$\n",
    "```decay_steps ``` в нашем примере присвоено значение 100000, ```decay_rate``` - 0.96.\n"
   ]
  },
  {
   "cell_type": "markdown",
   "metadata": {},
   "source": [
    "Оптимизатор:"
   ]
  },
  {
   "cell_type": "code",
   "execution_count": 33,
   "metadata": {
    "collapsed": true
   },
   "outputs": [],
   "source": [
    "gd = tf.train.GradientDescentOptimizer(learning_rate)\n",
    "train_step = gd.minimize(loss)\n",
    "sess.run(tf.global_variables_initializer())"
   ]
  },
  {
   "cell_type": "code",
   "execution_count": 34,
   "metadata": {},
   "outputs": [
    {
     "name": "stderr",
     "output_type": "stream",
     "text": [
      "Widget Javascript not detected.  It may not be installed or enabled properly.\n"
     ]
    },
    {
     "data": {
      "application/vnd.jupyter.widget-view+json": {
       "model_id": "63be2fd969524d7591e18f63b894cd14"
      }
     },
     "metadata": {},
     "output_type": "display_data"
    },
    {
     "name": "stdout",
     "output_type": "stream",
     "text": [
      "\n"
     ]
    }
   ],
   "source": [
    "train_errors = []\n",
    "test_errors = []\n",
    "n_epochs = 1000\n",
    "for i in tqdm.tqdm_notebook(range(n_epochs)): # 1000\n",
    "    _, train_err = sess.run([train_step, loss ], feed_dict={x_:X_Train, y_: Y_Train.reshape(len(Y_Train),1)})\n",
    "    train_errors.append(train_err)\n",
    "    test_errors.append(sess.run(loss, feed_dict={x_:X_Test, y_: Y_Test.reshape((len(Y_Test),1))}))\n"
   ]
  },
  {
   "cell_type": "markdown",
   "metadata": {},
   "source": [
    "Динамика обучения:"
   ]
  },
  {
   "cell_type": "code",
   "execution_count": 35,
   "metadata": {},
   "outputs": [
    {
     "name": "stdout",
     "output_type": "stream",
     "text": [
      "[21.531517, 6.3873048, 4.8107047, 4.3594384, 4.0414281, 3.7719882, 3.5391219, 3.3373287, 3.1622555, 3.0101902]\n",
      "[6.1812997, 4.6432276, 4.2074599, 3.9160933, 3.6744576, 3.4673719, 3.2888689, 3.1347499, 3.0015531, 2.8863218]\n"
     ]
    },
    {
     "data": {
      "image/png": "[encoded data removed]",
      "text/plain": [
       "<matplotlib.figure.Figure at 0x7f5fc30b92e8>"
      ]
     },
     "metadata": {},
     "output_type": "display_data"
    }
   ],
   "source": [
    "plt.plot(list(range(n_epochs)), train_errors, label = 'train' )\n",
    "plt.plot(list(range(n_epochs)), test_errors, label='test') \n",
    "plt.legend()\n",
    "plt.savefig('poly_reg_train.png')\n",
    "print(train_errors[:10])\n",
    "print(test_errors[:10])\n"
   ]
  },
  {
   "cell_type": "markdown",
   "metadata": {},
   "source": [
    "Помимо экспоненциального затухания есть и другие функции, которые позволяют снижать скорость обучения, и конечно ничто не мешает создать еще одну функцию под свои нужды.          \n",
    "\n",
    "Сама модель после обучения и разнообразных подборов параметров будет выглядеть как-то так:"
   ]
  },
  {
   "cell_type": "code",
   "execution_count": 36,
   "metadata": {},
   "outputs": [
    {
     "data": {
      "image/png": "[encoded data removed]",
      "text/plain": [
       "<matplotlib.figure.Figure at 0x7f5fc3d46ba8>"
      ]
     },
     "metadata": {},
     "output_type": "display_data"
    }
   ],
   "source": [
    "plt.plot(x, y)\n",
    "plt.plot(x,sess.run(model_output, feed_dict={x_:x_poly.reshape((len(x),order))}))\n",
    "plt.savefig(\"poly_forward_pass.png\")"
   ]
  },
  {
   "cell_type": "markdown",
   "metadata": {},
   "source": [
    "Для получения этого результата я изменял коэффициенты при регуляризации и скорости обучения. Перебор значений констант в формуле потерь - отличный способ увидеть своими глазами эффект работы регуляризаторов, крайне рекомендую поиграть с настройками."
   ]
  },
  {
   "cell_type": "markdown",
   "metadata": {},
   "source": [
    "## Сохранение и загрузка графов\n",
    "\n",
    "Мы получили модель и было бы неплохо её сохранить. В TF всё достаточно просто - в API есть специальный объект-сериализатор, который делает две вещи:  \n",
    "\n",
    "1. Сохраняет текущий граф, его состояние и значения переменных в файл;\n",
    "2. Читает всё то же самое из файла.\n",
    "\n",
    "Вот всё что нужно  - это создать этот объект:"
   ]
  },
  {
   "cell_type": "code",
   "execution_count": 37,
   "metadata": {
    "collapsed": true
   },
   "outputs": [],
   "source": [
    "saver = tf.train.Saver()"
   ]
  },
  {
   "cell_type": "markdown",
   "metadata": {},
   "source": [
    "Сохранение состояния текущей сессии производится с помощью метода `save`.\n",
    "```\n",
    "saver.save(sess, \"model.ckpt\")\n",
    "```"
   ]
  },
  {
   "cell_type": "markdown",
   "metadata": {},
   "source": [
    "Уже как-то принято, что сохраненные состояния модели называют чекпойнтами, отсюда название папок и расширения файлов. Восстановление производится с помощью метода `restore`:\n",
    "```\n",
    "ckpt = tf.train.get_checkpoint_state('.')\n",
    "if ckpt and ckpt.model_checkpoint_path:\n",
    "    print(ckpt.model_checkpoint_path)\n",
    "    saver.restore(session, ckpt.model_checkpoint_path)\n",
    "```\n",
    "\n",
    "Сначала с помощью специальной функции получаем состояние чекпойнта (если вдруг в целевой директории нет сохраненной модели, функция вернет `None`). По умолчанию функция ищет файл `checkpoint`, но это поведение можно изменить с помощью параметра. После этого `restore` восстанавливает состояние графа."
   ]
  },
  {
   "cell_type": "markdown",
   "metadata": {},
   "source": [
    "## Tensorboard\n",
    "\n",
    "Крайне полезная система в составе TF - web-dashboard, который позволяет собирать статистику из дампов и логов и наблюдать, что же всё-таки происходит во время вычислений. Крайне удобно то, что дашборд работает на веб-сервере и можно, например, запустив tensorboard на удаленной машине в облаке, наблюдать происходящее у себя в окне браузера.\n",
    "\n",
    "Tensorboard умеет:\n",
    "\n",
    "1. Рисовать граф вычислений.\n",
    "Граф вычислений стоит посмотреть хотя бы для самопроверки, чтобы убедиться в том, что собралось и считается именно то, что планировалось, и при кодировании не допущено ошибок.  \n",
    "2. Показывать статистику по переменным.\n",
    "Можно собирать вообще любую статистику.\n",
    "3. Есть средство для анализа многомерных данных (например, эмбеддингов). \n",
    "Для этого в дашборде встроены PCA и t-SNE, с которыми можно попробовать рассмотреть данные в 2 и 3 измерениях.\n",
    "4. Гистограммы.\n",
    "Можно строить гистограммы распределений выходов слоев сетей и поведения переменных.\n",
    "\n",
    "Обратная сторона медали - чтобы статистика попадала в дашборд, её нужно сохранять в логи (в формате protobuf) с помощью специального API. API не очень сложный, сгруппирован в ```tf.summary```. Для сбора статистики нужно будет отдельно зарегистрировать  интересующие переменные с помощью специальных функций и потом отдельно сохранить всё в лог.\n",
    "\n",
    "Еще при использовании Tensorboard важно также не забывать про параметр ```name``` у переменных. Имя, которое будет присвоено переменной, потом будет использоваться для отрисовки графа, выбора в пользовательском интерфейсе дашборда, в общем, везде. Для небольших графов это не критично, но с ростом сложности задачи могут возникнуть проблемы с пониманием происходящего. \n",
    "\n",
    "Есть несколько типов функций, которые сохраняют данные переменных различным образом:\n",
    "\n",
    "```python\n",
    "tf.summary.histogram(\"layer_output\", w_h)\n",
    "```\n",
    "\n",
    "Данная функция позволит собрать гистограмму для выхода слоя и примерно оценить динамику изменений при обучении. Функция ``` tf.summary.scalar(\"accuracy\", learning_rate)``` будет сохранять число. Еще можно сохранять аудио и картинки.\n",
    "\n",
    "Для сохранения логов нужно чуть больше: сначала нужно создать FileWriter для записи файла.\n",
    "\n",
    "```python\n",
    "writer = tf.summary.FileWriter(\"./logs/nn_logs\", sess.graph) # for 1.0\n",
    "merged = tf.summary.merge_all()\n",
    "```\n",
    "\n",
    "И объединить всю статистику в одном объекте.\n",
    "\n",
    "Теперь нужно вот этот объект `merged` передать на выполнение в сессию и потом с помощью метода ```FileWriter``` добавить новые данные, полученные от сессии.\n",
    "\n",
    "```python\n",
    "summary, op_result = sess.run([merged, op], feed_dict={X: X_train,  Y: y_train,\n",
    "                                          p_keep_input: 1.0, p_keep_hidden: 1.0})  \n",
    "        writer.add_summary(summary, i)\n",
    "```\n",
    "\n",
    "Впрочем, для простого сохранения графа достаточно вот такого кода:\n",
    "\n",
    "```python\n",
    "merged = tf.summary.merge_all(key='summaries')\n",
    "if not os.path.exists('tensorboard_logs/'):\n",
    "    os.makedirs('tensorboard_logs/')\n",
    "my_writer = tf.summary.FileWriter('tensorboard_logs/', sess.graph)\n",
    "```  \n",
    "\n",
    "И нюанс: по умолчанию Tensorboard локально доступен по адресу 127.0.**1**.1:6006. Надеюсь, сохранил читателям несколько секунд времени и нейронов этим замечанием.\n"
   ]
  },
  {
   "cell_type": "markdown",
   "metadata": {},
   "source": [
    "## Многослойный перцептрон\n",
    "\n",
    "Разберем каноничный пример с запоминанием функции xor, которую линейная модель не может усвоить из-за невозможности линейного разделения пространства признаков.\n",
    "\n",
    "<img src=\"https://habrastorage.org/files/dc9/f2b/3b2/dc9f2b3b24a34d8684eca18fdbe5d449.png\" align='center'/>\n",
    "\n",
    "Многослойные сети усваивают функцию из-за того, что делают неявное преобразование пространства признаков в разделимое или же (в зависимости от реализации) делают нелинейное разбиение этого пространства. Мы реализуем первый вариант - создадим двухслойный перцептрон с нелинейной активацией слоев. Первый слой будет делать нелинейное преобразование, а второй слой - это практически линейная регрессия, которая работает на преобразованном пространстве признаков.\n",
    "\n",
    "В качестве элемента нелинейности будем использовать функцию <a href=\"https://en.wikipedia.org/wiki/Rectifier_(neural_networks)\">relu</a>."
   ]
  },
  {
   "cell_type": "code",
   "execution_count": 37,
   "metadata": {
    "collapsed": true
   },
   "outputs": [],
   "source": [
    "ops.reset_default_graph()\n",
    "sess =tf.Session()"
   ]
  },
  {
   "cell_type": "markdown",
   "metadata": {},
   "source": [
    "Определим структуру сети:"
   ]
  },
  {
   "cell_type": "code",
   "execution_count": 38,
   "metadata": {
    "collapsed": true
   },
   "outputs": [],
   "source": [
    "x_ = tf.placeholder(name=\"input\", shape=[None, 2], dtype=tf.float32)\n",
    "y_ = tf.placeholder(name= \"output\", shape=[None, 1], dtype=tf.float32)\n",
    "\n",
    "hidden_neurons = 15\n",
    "w1 = tf.Variable(tf.random_uniform(shape=[2,hidden_neurons ]))\n",
    "b1 = tf.Variable(tf.constant(value=0.0, shape=[hidden_neurons ], dtype=tf.float32))\n",
    "layer1 = tf.nn.relu(tf.add(tf.matmul(x_, w1), b1))\n",
    "\n",
    "w2 = tf.Variable(tf.random_uniform(shape=[hidden_neurons ,1]))\n",
    "b2 =  tf.Variable(tf.constant(value=0.0, shape=[1], dtype=tf.float32))\n",
    "\n",
    "nn_output = tf.nn.relu(tf.add(tf.matmul(layer1, w2), b2))"
   ]
  },
  {
   "cell_type": "markdown",
   "metadata": {},
   "source": [
    "В отличие от keras и других более высокоуровневых библиотек, TF, подобно Theano предполагает детальное определение каждого слоя как совокупности некоторых арифметических операций. Это верно не для всех видов слоёв, например, сверточные и dropout-слои определяются одной функцией, в то время как обычный полносвязный слой представляет собой объявление не только переменных для весов и сдвигов, но и самих операций (перемножение весов с выходом предыдущего слоя, добавление сдвига, применение функции активации).\n",
    "\n",
    "Разумеется, довольно часто всё это оборачивается в подобную функцию:\n",
    "\n",
    "```python\n",
    "def fully_connected(input_layer, weights, biases):\n",
    "    layer = tf.add(tf.matmul(input_layer, weights), biases)\n",
    "    return(tf.nn.relu(layer))\n",
    "```\n",
    "\n",
    "При этом по моему собственному опыту объявление и инициализацию переменных удобнее оставлять снаружи: иногда требуется использовать их еще где-нибудь внутри графа (типичный пример - сиамские нейронные сети с общими весами) или же просто иметь доступ для простого логирования в файл и вывода текущих значений, а tensorboard по каким-то причинам пользоваться не хочется.\n"
   ]
  },
  {
   "cell_type": "markdown",
   "metadata": {},
   "source": [
    "Используем элементарную функцию потерь:"
   ]
  },
  {
   "cell_type": "code",
   "execution_count": 39,
   "metadata": {},
   "outputs": [],
   "source": [
    "gd = tf.train.GradientDescentOptimizer(0.001)\n",
    "loss =  tf.reduce_mean(tf.square(nn_output- y_))\n",
    "train_step = gd.minimize(loss)"
   ]
  },
  {
   "cell_type": "code",
   "execution_count": 40,
   "metadata": {
    "collapsed": true
   },
   "outputs": [],
   "source": [
    "init = tf.global_variables_initializer()\n",
    "sess.run(init)"
   ]
  },
  {
   "cell_type": "markdown",
   "metadata": {},
   "source": [
    "и обучим:"
   ]
  },
  {
   "cell_type": "code",
   "execution_count": 41,
   "metadata": {},
   "outputs": [
    {
     "name": "stdout",
     "output_type": "stream",
     "text": [
      "\n"
     ]
    }
   ],
   "source": [
    "x = np.array([[0,0],[1,0],[0,1],[1,1]])\n",
    "y = np.array([[0],[1],[1],[0]])\n",
    "for _ in tqdm.tqdm_notebook(range(20000)):\n",
    "    sess.run(train_step, feed_dict={x_:x, y_:y})"
   ]
  },
  {
   "cell_type": "markdown",
   "metadata": {},
   "source": [
    "Получившийся граф:\n",
    "<img src=\"https://habrastorage.org/files/76e/2e4/185/76e2e41856fb443bab060434e0f9aec2.png\" align='center'/>\n",
    "В сравнении с регрессией практически ничего не изменилось: тот же процесс обучения, та же функция потерь. Единственная часть кода, которая сильно изменилась - это код построения вычислительного графа. Дошло до того, что у меня накопился набор скриптов под конкретные задачи, в которых я меняю только подачу данных и граф вычислений.\n",
    "Конечно, в данном примере нет проверки на отложенной выборке. Убедиться в правильности работы сети можно с помощью вычисления выхода нейронной сети в графе:"
   ]
  },
  {
   "cell_type": "code",
   "execution_count": 42,
   "metadata": {},
   "outputs": [
    {
     "data": {
      "text/plain": [
       "array([[ 0.00596322],\n",
       "       [ 0.9970997 ],\n",
       "       [ 0.9980647 ],\n",
       "       [ 0.00205923]], dtype=float32)"
      ]
     },
     "execution_count": 42,
     "metadata": {},
     "output_type": "execute_result"
    }
   ],
   "source": [
    "sess.run(nn_output, feed_dict={x_:x})"
   ]
  },
  {
   "cell_type": "markdown",
   "metadata": {},
   "source": [
    "На ноутбуке пятилетней давности весь код отрабатывает за 5 секунд.\n",
    "\n",
    "Конечно, в случае более сложных моделей добавляется валидация на отложенной выборке и слежение за качеством по мере обучения и встроенные в TF методы подачи данных в граф."
   ]
  },
  {
   "cell_type": "markdown",
   "metadata": {},
   "source": [
    "## Управление ресурсами\n",
    "\n",
    "Довольно часто мир бывает несправедлив, и задача может не помещаться полностью в одно устройство. Или же менеджмент купил всего одну Tesla, и разработчики периодически вступают в конфликты из-за занятой карточки. В TF на такие случаи есть механизмы управления вычислениями. Внутри фреймворка устройства обозначаются как «/cpu:0», «/gpu:0» и т.д. Самое простое - можно указывать, где конкретно будет «жить» та или иная переменная:\n",
    "\n",
    "```python\n",
    "with tf.device('/cpu:0'):\n",
    "    a = ...    \n",
    "```\n",
    "\n",
    "В этом примере переменная ```а``` отправится на процессор.\n",
    "\n",
    "Еще можно передать в сессию конфигурационный объект, с помощью которого можно изменять проведение вычислений графа. Выглядит это примерно так:\n",
    "\n",
    "```python\n",
    "cfg = tf.ConfigProto()\n",
    "sess = tf.Session(config=cfg)\n",
    "```\n",
    "\n",
    "В конфиге первым делом можно включить параметр ```log_device_placement```, чтобы понимать, в какое вычислительное устройство отправилось вычисление той или иной части графа.\n",
    "\n",
    "Допустим, в команде разработчиков можно договориться об ограничении потребления памяти GPU. Сделать это можно с помощью такого кода:\n",
    "\n",
    "```python\n",
    "gpu_opts = tf.GPUOptions(per_process_gpu_memory_fraction=0.25)\n",
    "sess = tf.Session(config=tf.ConfigProto(gpu_options=gpu_opts))\n",
    "```\n",
    "\n",
    "В такой конфигурации сессия не будет потреблять более четверти памяти GPU, а это значит, что можно одновременно запустить расчеты еще нескольких моделей, а еще можно запустить модель считаться на CPU, но проще всего включить параметр ```allow_soft_placement```, чтобы TF решал эти проблемы сам. Для этой части API документация еще довольно фрагментарна и некоторые ссылки ведут сразу на гитхаб в исходники конфигурационных классов. Часть свойств там отмечена как устаревшая, другая часть - как экспериментальная, поэтому тут будет нужна аккуратность.\n",
    "\n",
    "## Заключение\n",
    "\n",
    "TF буквально за год-полтора разросся настолько, что впору делать отдельные обзоры о применении сверточных и рекуррентных сетей, обучения с подкреплением и о применении фреймворка к различным задачам. В этом кратком обзоре не затронуты темы структур для чтения данных, свертки, разнообразные методы оптимизации и высокоуровневые библиотеки-обертки. Продолжить знакомство можно, попробовав для начала «поиграть» с настройками обучения и разобравшись с различными оптимизаторами. Ну и конечно попробовать TF в соревнованиях на Kaggle!\n",
    "\n",
    "Автор выражает благодарность @sovcharenko, @Ferres и @bauchgefuehl за помощь в подготовке текста."
   ]
  }
 ],
 "metadata": {
  "kernelspec": {
   "display_name": "Python 3",
   "language": "python",
   "name": "python3"
  },
  "language_info": {
   "codemirror_mode": {
    "name": "ipython",
    "version": 3
   },
   "file_extension": ".py",
   "mimetype": "text/x-python",
   "name": "python",
   "nbconvert_exporter": "python",
   "pygments_lexer": "ipython3",
   "version": "3.6.2"
  },
  "widgets": {
   "state": {
    "0c872b0a38eb46f58ddf96d617401897": {
     "views": [
      {
       "cell_index": 71
      }
     ]
    },
    "6a7ebacdf8274504a9f5ea4a48575f42": {
     "views": [
      {
       "cell_index": 91
      }
     ]
    },
    "b5777cca845444e685561cfeffcc1cef": {
     "views": [
      {
       "cell_index": 46
      }
     ]
    }
   },
   "version": "1.2.0"
  }
 },
 "nbformat": 4,
 "nbformat_minor": 2
}
