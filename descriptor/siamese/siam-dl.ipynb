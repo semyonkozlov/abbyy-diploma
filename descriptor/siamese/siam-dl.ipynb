{
 "cells": [
  {
   "cell_type": "code",
   "execution_count": 1,
   "metadata": {},
   "outputs": [
    {
     "name": "stderr",
     "output_type": "stream",
     "text": [
      "Using TensorFlow backend.\n"
     ]
    }
   ],
   "source": [
    "import numpy as np\n",
    "\n",
    "import keras\n",
    "import keras.backend as K\n",
    "import theano.tensor as T\n",
    "import pandas as pd\n",
    "\n",
    "import matplotlib.pyplot as plt\n",
    "%matplotlib inline\n",
    "\n",
    "%config InlineBackend.fugure_format = 'retina'"
   ]
  },
  {
   "cell_type": "code",
   "execution_count": 2,
   "metadata": {},
   "outputs": [],
   "source": [
    "IMAGE_PATCH_SHAPE = (64, 64, 1)"
   ]
  },
  {
   "cell_type": "code",
   "execution_count": 3,
   "metadata": {},
   "outputs": [
    {
     "name": "stdout",
     "output_type": "stream",
     "text": [
      "(None, 64, 64, 1) (None, 256)\n"
     ]
    }
   ],
   "source": [
    "from keras.models import Sequential\n",
    "from keras.layers import Conv2D, MaxPooling2D, Dense, Dropout, Lambda, Flatten\n",
    "from keras.activations import relu\n",
    "    \n",
    "descriptor = Sequential()\n",
    "descriptor.add(Conv2D(96, kernel_size=7, strides=3, activation=relu, input_shape=IMAGE_PATCH_SHAPE))\n",
    "descriptor.add(MaxPooling2D(pool_size=2, strides=2))\n",
    "descriptor.add(Conv2D(192, kernel_size=5, strides=1, activation=relu))\n",
    "descriptor.add(MaxPooling2D(pool_size=2, strides=2))\n",
    "descriptor.add(Dropout(0.05))\n",
    "descriptor.add(Conv2D(256, kernel_size=3, strides=1, activation=relu))\n",
    "descriptor.add(Flatten())\n",
    "descriptor.add(Lambda(lambda x : K.l2_normalize(x, axis=1))) # TODO check normalization\n",
    "\n",
    "print(descriptor.input_shape, descriptor.output_shape)"
   ]
  },
  {
   "cell_type": "code",
   "execution_count": 4,
   "metadata": {},
   "outputs": [
    {
     "name": "stdout",
     "output_type": "stream",
     "text": [
      "[(None, 64, 64, 1), (None, 64, 64, 1)] (None, 1)\n"
     ]
    }
   ],
   "source": [
    "from keras.models import Model\n",
    "from keras.layers import Input, Concatenate\n",
    "\n",
    "input_a = Input(shape=IMAGE_PATCH_SHAPE)\n",
    "input_b = Input(shape=IMAGE_PATCH_SHAPE)\n",
    "\n",
    "descriptor_a = descriptor(input_a)\n",
    "descriptor_b = descriptor(input_b)\n",
    "\n",
    "decision = Concatenate()([descriptor_a, descriptor_b])\n",
    "decision = Dense(512, activation=relu)(decision)\n",
    "decision = Dense(1)(decision)\n",
    "model = Model(inputs=[input_a, input_b], outputs=decision)\n",
    "\n",
    "print(model.input_shape, model.output_shape)"
   ]
  },
  {
   "cell_type": "code",
   "execution_count": 5,
   "metadata": {},
   "outputs": [
    {
     "data": {
      "image/svg+xml": [
       "<svg height=\"387pt\" viewBox=\"0.00 0.00 756.00 387.00\" width=\"756pt\" xmlns=\"http://www.w3.org/2000/svg\" xmlns:xlink=\"http://www.w3.org/1999/xlink\">\n",
       "<g class=\"graph\" id=\"graph0\" transform=\"scale(1 1) rotate(0) translate(4 383)\">\n",
       "<title>G</title>\n",
       "<polygon fill=\"#ffffff\" points=\"-4,4 -4,-383 752,-383 752,4 -4,4\" stroke=\"transparent\"/>\n",
       "<!-- 140463583928048 -->\n",
       "<g class=\"node\" id=\"node1\">\n",
       "<title>140463583928048</title>\n",
       "<polygon fill=\"none\" points=\"0,-332.5 0,-378.5 365,-378.5 365,-332.5 0,-332.5\" stroke=\"#000000\"/>\n",
       "<text fill=\"#000000\" font-family=\"Times,serif\" font-size=\"14.00\" text-anchor=\"middle\" x=\"80\" y=\"-351.8\">input_1: InputLayer</text>\n",
       "<polyline fill=\"none\" points=\"160,-332.5 160,-378.5 \" stroke=\"#000000\"/>\n",
       "<text fill=\"#000000\" font-family=\"Times,serif\" font-size=\"14.00\" text-anchor=\"middle\" x=\"194\" y=\"-363.3\">input:</text>\n",
       "<polyline fill=\"none\" points=\"160,-355.5 228,-355.5 \" stroke=\"#000000\"/>\n",
       "<text fill=\"#000000\" font-family=\"Times,serif\" font-size=\"14.00\" text-anchor=\"middle\" x=\"194\" y=\"-340.3\">output:</text>\n",
       "<polyline fill=\"none\" points=\"228,-332.5 228,-378.5 \" stroke=\"#000000\"/>\n",
       "<text fill=\"#000000\" font-family=\"Times,serif\" font-size=\"14.00\" text-anchor=\"middle\" x=\"296.5\" y=\"-363.3\">(None, 64, 64, 1)</text>\n",
       "<polyline fill=\"none\" points=\"228,-355.5 365,-355.5 \" stroke=\"#000000\"/>\n",
       "<text fill=\"#000000\" font-family=\"Times,serif\" font-size=\"14.00\" text-anchor=\"middle\" x=\"296.5\" y=\"-340.3\">(None, 64, 64, 1)</text>\n",
       "</g>\n",
       "<!-- 140463585063040 -->\n",
       "<g class=\"node\" id=\"node3\">\n",
       "<title>140463585063040</title>\n",
       "<polygon fill=\"none\" points=\"174.5,-249.5 174.5,-295.5 572.5,-295.5 572.5,-249.5 174.5,-249.5\" stroke=\"#000000\"/>\n",
       "<text fill=\"#000000\" font-family=\"Times,serif\" font-size=\"14.00\" text-anchor=\"middle\" x=\"271\" y=\"-268.8\">sequential_1: Sequential</text>\n",
       "<polyline fill=\"none\" points=\"367.5,-249.5 367.5,-295.5 \" stroke=\"#000000\"/>\n",
       "<text fill=\"#000000\" font-family=\"Times,serif\" font-size=\"14.00\" text-anchor=\"middle\" x=\"401.5\" y=\"-280.3\">input:</text>\n",
       "<polyline fill=\"none\" points=\"367.5,-272.5 435.5,-272.5 \" stroke=\"#000000\"/>\n",
       "<text fill=\"#000000\" font-family=\"Times,serif\" font-size=\"14.00\" text-anchor=\"middle\" x=\"401.5\" y=\"-257.3\">output:</text>\n",
       "<polyline fill=\"none\" points=\"435.5,-249.5 435.5,-295.5 \" stroke=\"#000000\"/>\n",
       "<text fill=\"#000000\" font-family=\"Times,serif\" font-size=\"14.00\" text-anchor=\"middle\" x=\"504\" y=\"-280.3\">(None, 64, 64, 1)</text>\n",
       "<polyline fill=\"none\" points=\"435.5,-272.5 572.5,-272.5 \" stroke=\"#000000\"/>\n",
       "<text fill=\"#000000\" font-family=\"Times,serif\" font-size=\"14.00\" text-anchor=\"middle\" x=\"504\" y=\"-257.3\">(None, 256)</text>\n",
       "</g>\n",
       "<!-- 140463583928048&#45;&gt;140463585063040 -->\n",
       "<g class=\"edge\" id=\"edge1\">\n",
       "<title>140463583928048-&gt;140463585063040</title>\n",
       "<path d=\"M235.4505,-332.4901C258.9453,-322.2803 286.7589,-310.1938 311.2421,-299.5545\" fill=\"none\" stroke=\"#000000\"/>\n",
       "<polygon fill=\"#000000\" points=\"312.67,-302.7502 320.4465,-295.5547 309.8801,-296.3302 312.67,-302.7502\" stroke=\"#000000\"/>\n",
       "</g>\n",
       "<!-- 140463583927992 -->\n",
       "<g class=\"node\" id=\"node2\">\n",
       "<title>140463583927992</title>\n",
       "<polygon fill=\"none\" points=\"383,-332.5 383,-378.5 748,-378.5 748,-332.5 383,-332.5\" stroke=\"#000000\"/>\n",
       "<text fill=\"#000000\" font-family=\"Times,serif\" font-size=\"14.00\" text-anchor=\"middle\" x=\"463\" y=\"-351.8\">input_2: InputLayer</text>\n",
       "<polyline fill=\"none\" points=\"543,-332.5 543,-378.5 \" stroke=\"#000000\"/>\n",
       "<text fill=\"#000000\" font-family=\"Times,serif\" font-size=\"14.00\" text-anchor=\"middle\" x=\"577\" y=\"-363.3\">input:</text>\n",
       "<polyline fill=\"none\" points=\"543,-355.5 611,-355.5 \" stroke=\"#000000\"/>\n",
       "<text fill=\"#000000\" font-family=\"Times,serif\" font-size=\"14.00\" text-anchor=\"middle\" x=\"577\" y=\"-340.3\">output:</text>\n",
       "<polyline fill=\"none\" points=\"611,-332.5 611,-378.5 \" stroke=\"#000000\"/>\n",
       "<text fill=\"#000000\" font-family=\"Times,serif\" font-size=\"14.00\" text-anchor=\"middle\" x=\"679.5\" y=\"-363.3\">(None, 64, 64, 1)</text>\n",
       "<polyline fill=\"none\" points=\"611,-355.5 748,-355.5 \" stroke=\"#000000\"/>\n",
       "<text fill=\"#000000\" font-family=\"Times,serif\" font-size=\"14.00\" text-anchor=\"middle\" x=\"679.5\" y=\"-340.3\">(None, 64, 64, 1)</text>\n",
       "</g>\n",
       "<!-- 140463583927992&#45;&gt;140463585063040 -->\n",
       "<g class=\"edge\" id=\"edge2\">\n",
       "<title>140463583927992-&gt;140463585063040</title>\n",
       "<path d=\"M512.2723,-332.4901C488.6545,-322.2803 460.6952,-310.1938 436.0839,-299.5545\" fill=\"none\" stroke=\"#000000\"/>\n",
       "<polygon fill=\"#000000\" points=\"437.3992,-296.3101 426.8313,-295.5547 434.6215,-302.7354 437.3992,-296.3101\" stroke=\"#000000\"/>\n",
       "</g>\n",
       "<!-- 140463583927880 -->\n",
       "<g class=\"node\" id=\"node4\">\n",
       "<title>140463583927880</title>\n",
       "<polygon fill=\"none\" points=\"126,-166.5 126,-212.5 621,-212.5 621,-166.5 126,-166.5\" stroke=\"#000000\"/>\n",
       "<text fill=\"#000000\" font-family=\"Times,serif\" font-size=\"14.00\" text-anchor=\"middle\" x=\"236.5\" y=\"-185.8\">concatenate_1: Concatenate</text>\n",
       "<polyline fill=\"none\" points=\"347,-166.5 347,-212.5 \" stroke=\"#000000\"/>\n",
       "<text fill=\"#000000\" font-family=\"Times,serif\" font-size=\"14.00\" text-anchor=\"middle\" x=\"381\" y=\"-197.3\">input:</text>\n",
       "<polyline fill=\"none\" points=\"347,-189.5 415,-189.5 \" stroke=\"#000000\"/>\n",
       "<text fill=\"#000000\" font-family=\"Times,serif\" font-size=\"14.00\" text-anchor=\"middle\" x=\"381\" y=\"-174.3\">output:</text>\n",
       "<polyline fill=\"none\" points=\"415,-166.5 415,-212.5 \" stroke=\"#000000\"/>\n",
       "<text fill=\"#000000\" font-family=\"Times,serif\" font-size=\"14.00\" text-anchor=\"middle\" x=\"518\" y=\"-197.3\">[(None, 256), (None, 256)]</text>\n",
       "<polyline fill=\"none\" points=\"415,-189.5 621,-189.5 \" stroke=\"#000000\"/>\n",
       "<text fill=\"#000000\" font-family=\"Times,serif\" font-size=\"14.00\" text-anchor=\"middle\" x=\"518\" y=\"-174.3\">(None, 512)</text>\n",
       "</g>\n",
       "<!-- 140463585063040&#45;&gt;140463583927880 -->\n",
       "<g class=\"edge\" id=\"edge3\">\n",
       "<title>140463585063040-&gt;140463583927880</title>\n",
       "<path d=\"M373.5,-249.3799C373.5,-241.1745 373.5,-231.7679 373.5,-222.8786\" fill=\"none\" stroke=\"#000000\"/>\n",
       "<polygon fill=\"#000000\" points=\"377.0001,-222.784 373.5,-212.784 370.0001,-222.784 377.0001,-222.784\" stroke=\"#000000\"/>\n",
       "</g>\n",
       "<!-- 140463587918624 -->\n",
       "<g class=\"node\" id=\"node5\">\n",
       "<title>140463587918624</title>\n",
       "<polygon fill=\"none\" points=\"225,-83.5 225,-129.5 522,-129.5 522,-83.5 225,-83.5\" stroke=\"#000000\"/>\n",
       "<text fill=\"#000000\" font-family=\"Times,serif\" font-size=\"14.00\" text-anchor=\"middle\" x=\"289\" y=\"-102.8\">dense_1: Dense</text>\n",
       "<polyline fill=\"none\" points=\"353,-83.5 353,-129.5 \" stroke=\"#000000\"/>\n",
       "<text fill=\"#000000\" font-family=\"Times,serif\" font-size=\"14.00\" text-anchor=\"middle\" x=\"387\" y=\"-114.3\">input:</text>\n",
       "<polyline fill=\"none\" points=\"353,-106.5 421,-106.5 \" stroke=\"#000000\"/>\n",
       "<text fill=\"#000000\" font-family=\"Times,serif\" font-size=\"14.00\" text-anchor=\"middle\" x=\"387\" y=\"-91.3\">output:</text>\n",
       "<polyline fill=\"none\" points=\"421,-83.5 421,-129.5 \" stroke=\"#000000\"/>\n",
       "<text fill=\"#000000\" font-family=\"Times,serif\" font-size=\"14.00\" text-anchor=\"middle\" x=\"471.5\" y=\"-114.3\">(None, 512)</text>\n",
       "<polyline fill=\"none\" points=\"421,-106.5 522,-106.5 \" stroke=\"#000000\"/>\n",
       "<text fill=\"#000000\" font-family=\"Times,serif\" font-size=\"14.00\" text-anchor=\"middle\" x=\"471.5\" y=\"-91.3\">(None, 512)</text>\n",
       "</g>\n",
       "<!-- 140463583927880&#45;&gt;140463587918624 -->\n",
       "<g class=\"edge\" id=\"edge5\">\n",
       "<title>140463583927880-&gt;140463587918624</title>\n",
       "<path d=\"M373.5,-166.3799C373.5,-158.1745 373.5,-148.7679 373.5,-139.8786\" fill=\"none\" stroke=\"#000000\"/>\n",
       "<polygon fill=\"#000000\" points=\"377.0001,-139.784 373.5,-129.784 370.0001,-139.784 377.0001,-139.784\" stroke=\"#000000\"/>\n",
       "</g>\n",
       "<!-- 140463583990952 -->\n",
       "<g class=\"node\" id=\"node6\">\n",
       "<title>140463583990952</title>\n",
       "<polygon fill=\"none\" points=\"225,-.5 225,-46.5 522,-46.5 522,-.5 225,-.5\" stroke=\"#000000\"/>\n",
       "<text fill=\"#000000\" font-family=\"Times,serif\" font-size=\"14.00\" text-anchor=\"middle\" x=\"289\" y=\"-19.8\">dense_2: Dense</text>\n",
       "<polyline fill=\"none\" points=\"353,-.5 353,-46.5 \" stroke=\"#000000\"/>\n",
       "<text fill=\"#000000\" font-family=\"Times,serif\" font-size=\"14.00\" text-anchor=\"middle\" x=\"387\" y=\"-31.3\">input:</text>\n",
       "<polyline fill=\"none\" points=\"353,-23.5 421,-23.5 \" stroke=\"#000000\"/>\n",
       "<text fill=\"#000000\" font-family=\"Times,serif\" font-size=\"14.00\" text-anchor=\"middle\" x=\"387\" y=\"-8.3\">output:</text>\n",
       "<polyline fill=\"none\" points=\"421,-.5 421,-46.5 \" stroke=\"#000000\"/>\n",
       "<text fill=\"#000000\" font-family=\"Times,serif\" font-size=\"14.00\" text-anchor=\"middle\" x=\"471.5\" y=\"-31.3\">(None, 512)</text>\n",
       "<polyline fill=\"none\" points=\"421,-23.5 522,-23.5 \" stroke=\"#000000\"/>\n",
       "<text fill=\"#000000\" font-family=\"Times,serif\" font-size=\"14.00\" text-anchor=\"middle\" x=\"471.5\" y=\"-8.3\">(None, 1)</text>\n",
       "</g>\n",
       "<!-- 140463587918624&#45;&gt;140463583990952 -->\n",
       "<g class=\"edge\" id=\"edge6\">\n",
       "<title>140463587918624-&gt;140463583990952</title>\n",
       "<path d=\"M373.5,-83.3799C373.5,-75.1745 373.5,-65.7679 373.5,-56.8786\" fill=\"none\" stroke=\"#000000\"/>\n",
       "<polygon fill=\"#000000\" points=\"377.0001,-56.784 373.5,-46.784 370.0001,-56.784 377.0001,-56.784\" stroke=\"#000000\"/>\n",
       "</g>\n",
       "</g>\n",
       "</svg>"
      ],
      "text/plain": [
       "<IPython.core.display.SVG object>"
      ]
     },
     "execution_count": 5,
     "metadata": {},
     "output_type": "execute_result"
    }
   ],
   "source": [
    "from IPython.display import SVG\n",
    "from keras.utils.vis_utils import model_to_dot\n",
    "\n",
    "SVG(model_to_dot(model, show_shapes=True).create(prog='dot', format='svg'))"
   ]
  },
  {
   "cell_type": "code",
   "execution_count": 6,
   "metadata": {},
   "outputs": [],
   "source": [
    "from keras.optimizers import SGD, Adam\n",
    "from keras.losses import binary_crossentropy\n",
    "\n",
    "def hinge_onehot(y_true, y_pred):\n",
    "    y_true = y_true * 2 - 1\n",
    "    y_pred = y_pred * 2 - 1\n",
    "\n",
    "    return K.mean(K.maximum(1. - y_true * y_pred, 0.), axis=-1)\n",
    "\n",
    "#model.compile(loss=hinge_onehot, optimizer=SGD(lr=1.0, momentum=0.9, nesterov=True)) #TODO try Average SGD\n",
    "model.compile(loss=hinge_onehot, optimizer=Adam())"
   ]
  },
  {
   "cell_type": "code",
   "execution_count": 8,
   "metadata": {},
   "outputs": [
    {
     "name": "stdout",
     "output_type": "stream",
     "text": [
      "Epoch 1/5\n",
      "7/7 [==============================] - 39s 6s/step - loss: 1.0297\n",
      "Epoch 2/5\n",
      "7/7 [==============================] - 11s 2s/step - loss: 1.0057\n",
      "Epoch 3/5\n",
      "7/7 [==============================] - 10s 1s/step - loss: 1.0097\n",
      "Epoch 4/5\n",
      "7/7 [==============================] - 10s 1s/step - loss: 1.0073\n",
      "Epoch 5/5\n",
      "7/7 [==============================] - 10s 1s/step - loss: 0.9984\n"
     ]
    },
    {
     "data": {
      "text/plain": [
       "<keras.callbacks.History at 0x7fc03a430898>"
      ]
     },
     "execution_count": 8,
     "metadata": {},
     "output_type": "execute_result"
    }
   ],
   "source": [
    "from utils import patch_pairs_generator\n",
    "\n",
    "NUM_PAIRS = 1000\n",
    "\n",
    "output_generator = patch_pairs_generator('notredame', NUM_PAIRS, batch_size=128)\n",
    "\n",
    "model.fit_generator(output_generator, steps_per_epoch=NUM_PAIRS // 128, epochs=5)"
   ]
  }
 ],
 "metadata": {
  "kernelspec": {
   "display_name": "Python 3",
   "language": "python",
   "name": "python3"
  },
  "language_info": {
   "codemirror_mode": {
    "name": "ipython",
    "version": 3
   },
   "file_extension": ".py",
   "mimetype": "text/x-python",
   "name": "python",
   "nbconvert_exporter": "python",
   "pygments_lexer": "ipython3",
   "version": "3.6.4"
  }
 },
 "nbformat": 4,
 "nbformat_minor": 2
}
