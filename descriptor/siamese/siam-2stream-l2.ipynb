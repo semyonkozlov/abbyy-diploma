{
 "cells": [
  {
   "cell_type": "code",
   "execution_count": 1,
   "metadata": {},
   "outputs": [
    {
     "name": "stderr",
     "output_type": "stream",
     "text": [
      "Using TensorFlow backend.\n"
     ]
    }
   ],
   "source": [
    "import numpy as np\n",
    "\n",
    "import keras\n",
    "import keras.backend as K\n",
    "import theano.tensor as T\n",
    "import pandas as pd\n",
    "\n",
    "import matplotlib.pyplot as plt\n",
    "%matplotlib inline\n",
    "\n",
    "%config InlineBackend.fugure_format = 'retina'"
   ]
  },
  {
   "cell_type": "code",
   "execution_count": 33,
   "metadata": {},
   "outputs": [],
   "source": [
    "IMAGE_PATCH_SHAPE = (64, 64, 1)\n",
    "CENTER_PATCH_SHAPE = (32, 32, 1)"
   ]
  },
  {
   "cell_type": "code",
   "execution_count": 40,
   "metadata": {},
   "outputs": [],
   "source": [
    "from keras.models import Sequential\n",
    "from keras.layers import Conv2D, MaxPooling2D, Dense, Dropout, Lambda, Flatten\n",
    "from keras.activations import relu\n",
    "\n",
    "descriptor = Sequential()\n",
    "descriptor.add(Conv2D(96, kernel_size=4, strides=2, activation=relu, input_shape=CENTER_PATCH_SHAPE))\n",
    "descriptor.add(MaxPooling2D(pool_size=2, strides=2))\n",
    "descriptor.add(Dropout(0.05))\n",
    "descriptor.add(Conv2D(192, kernel_size=3, strides=1, activation=relu))\n",
    "descriptor.add(Conv2D(256, kernel_size=3, strides=1, activation=relu))\n",
    "descriptor.add(Conv2D(256, kernel_size=3, strides=1, activation=relu))\n",
    "descriptor.add(Flatten())\n",
    "descriptor.add(Lambda(lambda x : K.l2_normalize(x, axis=1))) # TODO check normalization"
   ]
  },
  {
   "cell_type": "code",
   "execution_count": 41,
   "metadata": {},
   "outputs": [
    {
     "data": {
      "text/plain": [
       "(None, 256)"
      ]
     },
     "execution_count": 41,
     "metadata": {},
     "output_type": "execute_result"
    }
   ],
   "source": [
    "descriptor.output_shape"
   ]
  },
  {
   "cell_type": "code",
   "execution_count": null,
   "metadata": {},
   "outputs": [],
   "source": []
  }
 ],
 "metadata": {
  "kernelspec": {
   "display_name": "Python 3",
   "language": "python",
   "name": "python3"
  },
  "language_info": {
   "codemirror_mode": {
    "name": "ipython",
    "version": 3
   },
   "file_extension": ".py",
   "mimetype": "text/x-python",
   "name": "python",
   "nbconvert_exporter": "python",
   "pygments_lexer": "ipython3",
   "version": "3.6.4"
  }
 },
 "nbformat": 4,
 "nbformat_minor": 2
}
