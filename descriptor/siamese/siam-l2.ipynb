{
 "cells": [
  {
   "cell_type": "code",
   "execution_count": 1,
   "metadata": {},
   "outputs": [
    {
     "name": "stderr",
     "output_type": "stream",
     "text": [
      "/home/semyon/.local/lib/python3.6/site-packages/h5py/__init__.py:36: FutureWarning: Conversion of the second argument of issubdtype from `float` to `np.floating` is deprecated. In future, it will be treated as `np.float64 == np.dtype(float).type`.\n",
      "  from ._conv import register_converters as _register_converters\n",
      "Using TensorFlow backend.\n"
     ]
    }
   ],
   "source": [
    "import numpy as np\n",
    "\n",
    "import keras\n",
    "import keras.backend as K\n",
    "import pandas as pd\n",
    "import tensorflow as tf\n",
    "\n",
    "import matplotlib.pyplot as plt\n",
    "%matplotlib inline\n",
    "\n",
    "%config InlineBackend.fugure_format = 'retina'\n",
    "\n",
    "%load_ext autoreload"
   ]
  },
  {
   "cell_type": "code",
   "execution_count": 2,
   "metadata": {},
   "outputs": [
    {
     "name": "stdout",
     "output_type": "stream",
     "text": [
      "channels_last\n"
     ]
    }
   ],
   "source": [
    "print(K.image_data_format())"
   ]
  },
  {
   "cell_type": "code",
   "execution_count": 3,
   "metadata": {},
   "outputs": [],
   "source": [
    "IMAGE_PATCH_SHAPE = (64, 64, 1)"
   ]
  },
  {
   "cell_type": "markdown",
   "metadata": {},
   "source": [
    "# Siamese model"
   ]
  },
  {
   "cell_type": "code",
   "execution_count": 4,
   "metadata": {},
   "outputs": [
    {
     "name": "stdout",
     "output_type": "stream",
     "text": [
      "(None, 64, 64, 1) (None, 256)\n"
     ]
    }
   ],
   "source": [
    "from keras.models import Sequential\n",
    "from keras.layers import Conv2D, MaxPooling2D, Dense, Dropout, Lambda, Flatten, BatchNormalization, Activation\n",
    "from keras.regularizers import l2\n",
    "    \n",
    "WEIGHT_DECAY = 5e-4 / 2 # for weight regularization\n",
    "    \n",
    "descriptor = Sequential()\n",
    "\n",
    "descriptor.add(Lambda(lambda x : x / 255, input_shape=IMAGE_PATCH_SHAPE))\n",
    "\n",
    "descriptor.add(Conv2D(96, kernel_size=7, strides=3, kernel_regularizer=l2(WEIGHT_DECAY)))\n",
    "descriptor.add(BatchNormalization())\n",
    "descriptor.add(Activation('relu'))\n",
    "descriptor.add(MaxPooling2D(pool_size=2, strides=2))\n",
    "#descriptor.add(Dropout(0.2))\n",
    "\n",
    "descriptor.add(Conv2D(192, kernel_size=5, strides=1, kernel_regularizer=l2(WEIGHT_DECAY)))\n",
    "descriptor.add(BatchNormalization())\n",
    "descriptor.add(Activation('relu'))\n",
    "descriptor.add(MaxPooling2D(pool_size=2, strides=2))\n",
    "#descriptor.add(Dropout(0.2))\n",
    "\n",
    "descriptor.add(Conv2D(256, kernel_size=3, strides=1, kernel_regularizer=l2(WEIGHT_DECAY)))\n",
    "descriptor.add(BatchNormalization())\n",
    "descriptor.add(Flatten())\n",
    "\n",
    "descriptor.add(Lambda(lambda x : tf.nn.l2_normalize(x, axis=1))) \n",
    "\n",
    "print(descriptor.input_shape, descriptor.output_shape)"
   ]
  },
  {
   "cell_type": "code",
   "execution_count": 5,
   "metadata": {},
   "outputs": [
    {
     "name": "stdout",
     "output_type": "stream",
     "text": [
      "[(None, 64, 64, 1), (None, 64, 64, 1)] (None, 1)\n"
     ]
    }
   ],
   "source": [
    "from keras.models import Model\n",
    "from keras.layers import Input\n",
    "\n",
    "input_a = Input(shape=IMAGE_PATCH_SHAPE)\n",
    "input_b = Input(shape=IMAGE_PATCH_SHAPE)\n",
    "\n",
    "descriptor_a = descriptor(input_a)\n",
    "descriptor_b = descriptor(input_b)\n",
    "\n",
    "def euclidean_distance(vects):\n",
    "    assert len(vects) == 2\n",
    "    x, y = vects\n",
    "    return K.sqrt(K.maximum(K.sum(K.square(x - y), axis=1, keepdims=True), K.epsilon())) / 2\n",
    "\n",
    "distance = Lambda(euclidean_distance)([descriptor_a, descriptor_b])\n",
    "model = Model(inputs=[input_a, input_b], outputs=distance)\n",
    "\n",
    "print(model.input_shape, model.output_shape)"
   ]
  },
  {
   "cell_type": "code",
   "execution_count": 6,
   "metadata": {},
   "outputs": [
    {
     "data": {
      "image/svg+xml": [
       "<svg height=\"221pt\" viewBox=\"0.00 0.00 756.00 221.00\" width=\"756pt\" xmlns=\"http://www.w3.org/2000/svg\" xmlns:xlink=\"http://www.w3.org/1999/xlink\">\n",
       "<g class=\"graph\" id=\"graph0\" transform=\"scale(1 1) rotate(0) translate(4 217)\">\n",
       "<title>G</title>\n",
       "<polygon fill=\"white\" points=\"-4,4 -4,-217 752,-217 752,4 -4,4\" stroke=\"none\"/>\n",
       "<!-- 140310548976640 -->\n",
       "<g class=\"node\" id=\"node1\"><title>140310548976640</title>\n",
       "<polygon fill=\"none\" points=\"0,-166.5 0,-212.5 365,-212.5 365,-166.5 0,-166.5\" stroke=\"black\"/>\n",
       "<text font-family=\"Times,serif\" font-size=\"14.00\" text-anchor=\"middle\" x=\"80\" y=\"-185.8\">input_1: InputLayer</text>\n",
       "<polyline fill=\"none\" points=\"160,-166.5 160,-212.5 \" stroke=\"black\"/>\n",
       "<text font-family=\"Times,serif\" font-size=\"14.00\" text-anchor=\"middle\" x=\"194\" y=\"-197.3\">input:</text>\n",
       "<polyline fill=\"none\" points=\"160,-189.5 228,-189.5 \" stroke=\"black\"/>\n",
       "<text font-family=\"Times,serif\" font-size=\"14.00\" text-anchor=\"middle\" x=\"194\" y=\"-174.3\">output:</text>\n",
       "<polyline fill=\"none\" points=\"228,-166.5 228,-212.5 \" stroke=\"black\"/>\n",
       "<text font-family=\"Times,serif\" font-size=\"14.00\" text-anchor=\"middle\" x=\"296.5\" y=\"-197.3\">(None, 64, 64, 1)</text>\n",
       "<polyline fill=\"none\" points=\"228,-189.5 365,-189.5 \" stroke=\"black\"/>\n",
       "<text font-family=\"Times,serif\" font-size=\"14.00\" text-anchor=\"middle\" x=\"296.5\" y=\"-174.3\">(None, 64, 64, 1)</text>\n",
       "</g>\n",
       "<!-- 140311324166912 -->\n",
       "<g class=\"node\" id=\"node3\"><title>140311324166912</title>\n",
       "<polygon fill=\"none\" points=\"174.5,-83.5 174.5,-129.5 572.5,-129.5 572.5,-83.5 174.5,-83.5\" stroke=\"black\"/>\n",
       "<text font-family=\"Times,serif\" font-size=\"14.00\" text-anchor=\"middle\" x=\"271\" y=\"-102.8\">sequential_1: Sequential</text>\n",
       "<polyline fill=\"none\" points=\"367.5,-83.5 367.5,-129.5 \" stroke=\"black\"/>\n",
       "<text font-family=\"Times,serif\" font-size=\"14.00\" text-anchor=\"middle\" x=\"401.5\" y=\"-114.3\">input:</text>\n",
       "<polyline fill=\"none\" points=\"367.5,-106.5 435.5,-106.5 \" stroke=\"black\"/>\n",
       "<text font-family=\"Times,serif\" font-size=\"14.00\" text-anchor=\"middle\" x=\"401.5\" y=\"-91.3\">output:</text>\n",
       "<polyline fill=\"none\" points=\"435.5,-83.5 435.5,-129.5 \" stroke=\"black\"/>\n",
       "<text font-family=\"Times,serif\" font-size=\"14.00\" text-anchor=\"middle\" x=\"504\" y=\"-114.3\">(None, 64, 64, 1)</text>\n",
       "<polyline fill=\"none\" points=\"435.5,-106.5 572.5,-106.5 \" stroke=\"black\"/>\n",
       "<text font-family=\"Times,serif\" font-size=\"14.00\" text-anchor=\"middle\" x=\"504\" y=\"-91.3\">(None, 256)</text>\n",
       "</g>\n",
       "<!-- 140310548976640&#45;&gt;140311324166912 -->\n",
       "<g class=\"edge\" id=\"edge1\"><title>140310548976640-&gt;140311324166912</title>\n",
       "<path d=\"M234.439,-166.473C258.438,-156.296 287.107,-144.138 312.162,-133.512\" fill=\"none\" stroke=\"black\"/>\n",
       "<polygon fill=\"black\" points=\"313.731,-136.649 321.571,-129.522 310.998,-130.204 313.731,-136.649\" stroke=\"black\"/>\n",
       "</g>\n",
       "<!-- 140310548979496 -->\n",
       "<g class=\"node\" id=\"node2\"><title>140310548979496</title>\n",
       "<polygon fill=\"none\" points=\"383,-166.5 383,-212.5 748,-212.5 748,-166.5 383,-166.5\" stroke=\"black\"/>\n",
       "<text font-family=\"Times,serif\" font-size=\"14.00\" text-anchor=\"middle\" x=\"463\" y=\"-185.8\">input_2: InputLayer</text>\n",
       "<polyline fill=\"none\" points=\"543,-166.5 543,-212.5 \" stroke=\"black\"/>\n",
       "<text font-family=\"Times,serif\" font-size=\"14.00\" text-anchor=\"middle\" x=\"577\" y=\"-197.3\">input:</text>\n",
       "<polyline fill=\"none\" points=\"543,-189.5 611,-189.5 \" stroke=\"black\"/>\n",
       "<text font-family=\"Times,serif\" font-size=\"14.00\" text-anchor=\"middle\" x=\"577\" y=\"-174.3\">output:</text>\n",
       "<polyline fill=\"none\" points=\"611,-166.5 611,-212.5 \" stroke=\"black\"/>\n",
       "<text font-family=\"Times,serif\" font-size=\"14.00\" text-anchor=\"middle\" x=\"679.5\" y=\"-197.3\">(None, 64, 64, 1)</text>\n",
       "<polyline fill=\"none\" points=\"611,-189.5 748,-189.5 \" stroke=\"black\"/>\n",
       "<text font-family=\"Times,serif\" font-size=\"14.00\" text-anchor=\"middle\" x=\"679.5\" y=\"-174.3\">(None, 64, 64, 1)</text>\n",
       "</g>\n",
       "<!-- 140310548979496&#45;&gt;140311324166912 -->\n",
       "<g class=\"edge\" id=\"edge2\"><title>140310548979496-&gt;140311324166912</title>\n",
       "<path d=\"M513.289,-166.473C489.165,-156.296 460.345,-144.138 435.159,-133.512\" fill=\"none\" stroke=\"black\"/>\n",
       "<polygon fill=\"black\" points=\"436.275,-130.185 425.701,-129.522 433.554,-136.634 436.275,-130.185\" stroke=\"black\"/>\n",
       "</g>\n",
       "<!-- 140310545058952 -->\n",
       "<g class=\"node\" id=\"node4\"><title>140310545058952</title>\n",
       "<polygon fill=\"none\" points=\"160.5,-0.5 160.5,-46.5 586.5,-46.5 586.5,-0.5 160.5,-0.5\" stroke=\"black\"/>\n",
       "<text font-family=\"Times,serif\" font-size=\"14.00\" text-anchor=\"middle\" x=\"236.5\" y=\"-19.8\">lambda_3: Lambda</text>\n",
       "<polyline fill=\"none\" points=\"312.5,-0.5 312.5,-46.5 \" stroke=\"black\"/>\n",
       "<text font-family=\"Times,serif\" font-size=\"14.00\" text-anchor=\"middle\" x=\"346.5\" y=\"-31.3\">input:</text>\n",
       "<polyline fill=\"none\" points=\"312.5,-23.5 380.5,-23.5 \" stroke=\"black\"/>\n",
       "<text font-family=\"Times,serif\" font-size=\"14.00\" text-anchor=\"middle\" x=\"346.5\" y=\"-8.3\">output:</text>\n",
       "<polyline fill=\"none\" points=\"380.5,-0.5 380.5,-46.5 \" stroke=\"black\"/>\n",
       "<text font-family=\"Times,serif\" font-size=\"14.00\" text-anchor=\"middle\" x=\"483.5\" y=\"-31.3\">[(None, 256), (None, 256)]</text>\n",
       "<polyline fill=\"none\" points=\"380.5,-23.5 586.5,-23.5 \" stroke=\"black\"/>\n",
       "<text font-family=\"Times,serif\" font-size=\"14.00\" text-anchor=\"middle\" x=\"483.5\" y=\"-8.3\">(None, 1)</text>\n",
       "</g>\n",
       "<!-- 140311324166912&#45;&gt;140310545058952 -->\n",
       "<g class=\"edge\" id=\"edge3\"><title>140311324166912-&gt;140310545058952</title>\n",
       "<path d=\"M373.5,-83.3664C373.5,-75.1516 373.5,-65.6579 373.5,-56.7252\" fill=\"none\" stroke=\"black\"/>\n",
       "<polygon fill=\"black\" points=\"377,-56.6068 373.5,-46.6068 370,-56.6069 377,-56.6068\" stroke=\"black\"/>\n",
       "</g>\n",
       "</g>\n",
       "</svg>"
      ],
      "text/plain": [
       "<IPython.core.display.SVG object>"
      ]
     },
     "execution_count": 6,
     "metadata": {},
     "output_type": "execute_result"
    }
   ],
   "source": [
    "from IPython.display import SVG\n",
    "from keras.utils.vis_utils import model_to_dot\n",
    "\n",
    "SVG(model_to_dot(model, show_shapes=True).create(prog='dot', format='svg'))"
   ]
  },
  {
   "cell_type": "markdown",
   "metadata": {},
   "source": [
    "# Notredame and Libery datasets"
   ]
  },
  {
   "cell_type": "code",
   "execution_count": 7,
   "metadata": {},
   "outputs": [
    {
     "name": "stdout",
     "output_type": "stream",
     "text": [
      "../data/notredame/m50_100000_100000_0.txt\r\n",
      "../data/notredame/m50_10000_10000_0.txt\r\n",
      "../data/notredame/m50_1000_1000_0.txt\r\n",
      "../data/notredame/m50_200000_200000_0.txt\r\n",
      "../data/notredame/m50_20000_20000_0.txt\r\n",
      "../data/notredame/m50_2000_2000_0.txt\r\n",
      "../data/notredame/m50_500000_500000_0.txt\r\n",
      "../data/notredame/m50_50000_50000_0.txt\r\n",
      "../data/notredame/m50_5000_5000_0.txt\r\n"
     ]
    }
   ],
   "source": [
    "DATA_ROOT = '../data'\n",
    "NOTREDAME = f'{DATA_ROOT}/notredame'\n",
    "LIBERTY = f'{DATA_ROOT}/liberty'\n",
    "\n",
    "!ls {NOTREDAME}/m50_*.txt"
   ]
  },
  {
   "cell_type": "code",
   "execution_count": 9,
   "metadata": {},
   "outputs": [],
   "source": [
    "from keras.losses import hinge\n",
    "from keras.optimizers import Adam \n",
    "\n",
    "def accuracy(y_true, y_pred):\n",
    "    return K.mean(K.equal(y_true, K.cast(y_pred > 0.5, y_true.dtype)))\n",
    "\n",
    "def contrastive_loss(y_true, y_pred):\n",
    "    '''Contrastive loss from Hadsell-et-al.'06\n",
    "    http://yann.lecun.com/exdb/publis/pdf/hadsell-chopra-lecun-06.pdf\n",
    "    '''\n",
    "    margin = 1\n",
    "    return K.mean((1 - y_true) * K.square(y_pred) + y_true * K.square(K.maximum(margin - y_pred, 0)))\n",
    "\n",
    "model.compile(loss=contrastive_loss, optimizer=Adam(), metrics=[accuracy])"
   ]
  },
  {
   "cell_type": "code",
   "execution_count": 12,
   "metadata": {},
   "outputs": [],
   "source": [
    "from utils import create_generator\n",
    "from keras.callbacks import ReduceLROnPlateau, ModelCheckpoint, EarlyStopping\n",
    "from batchtensorboard import BatchTensorBoard\n",
    "\n",
    "NUM_TRAIN_PAIRS = 500000\n",
    "NUM_VAL_PAIRS = 100000\n",
    "BATCH_SIZE = 128\n",
    "NUM_TRAIN_STEPS = NUM_TRAIN_PAIRS // BATCH_SIZE\n",
    "NUM_VAL_STEPS = NUM_VAL_PAIRS // BATCH_SIZE\n",
    "\n",
    "train_generator = create_generator(NOTREDAME, NUM_TRAIN_PAIRS, BATCH_SIZE, augmentate=True)\n",
    "validation_generator = create_generator(LIBERTY, NUM_VAL_PAIRS, BATCH_SIZE, augmentate=False)\n",
    "\n",
    "tensorboard = BatchTensorBoard(log_dir='siam-l2-texts-logs')\n",
    "lr_reducer = ReduceLROnPlateau(monitor='val_loss', factor=0.1, patience=2, min_lr=1e-5)\n",
    "stopper = EarlyStopping(monitor='val_loss', patience=4)\n",
    "checkpointer = ModelCheckpoint('siam-l2-texts-weights.hdf5')"
   ]
  },
  {
   "cell_type": "code",
   "execution_count": null,
   "metadata": {},
   "outputs": [],
   "source": [
    "!rm -r siam-l2-texts-logs"
   ]
  },
  {
   "cell_type": "code",
   "execution_count": null,
   "metadata": {},
   "outputs": [],
   "source": [
    "#model.load_weights('siam-l2-aug-reg-weights.hdf5')"
   ]
  },
  {
   "cell_type": "code",
   "execution_count": 141,
   "metadata": {
    "scrolled": false
   },
   "outputs": [
    {
     "name": "stdout",
     "output_type": "stream",
     "text": [
      "Epoch 1/100\n",
      "3906/3906 [==============================] - 310s 79ms/step - loss: 0.1105 - accuracy: 0.9108 - val_loss: 0.1346 - val_accuracy: 0.8566\n",
      "Epoch 2/100\n",
      "3906/3906 [==============================] - 319s 82ms/step - loss: 0.1103 - accuracy: 0.9112 - val_loss: 0.1336 - val_accuracy: 0.8585\n",
      "Epoch 3/100\n",
      "3906/3906 [==============================] - 305s 78ms/step - loss: 0.1105 - accuracy: 0.9108 - val_loss: 0.1276 - val_accuracy: 0.8711\n",
      "Epoch 4/100\n",
      "3906/3906 [==============================] - 318s 81ms/step - loss: 0.1103 - accuracy: 0.9112 - val_loss: 0.1296 - val_accuracy: 0.8693\n",
      "Epoch 5/100\n",
      "3906/3906 [==============================] - 300s 77ms/step - loss: 0.1104 - accuracy: 0.9110 - val_loss: 0.1323 - val_accuracy: 0.8626\n",
      "Epoch 6/100\n",
      "3906/3906 [==============================] - 312s 80ms/step - loss: 0.1104 - accuracy: 0.9114 - val_loss: 0.1311 - val_accuracy: 0.8674\n",
      "Epoch 7/100\n",
      "3906/3906 [==============================] - 310s 79ms/step - loss: 0.1047 - accuracy: 0.9190 - val_loss: 0.1217 - val_accuracy: 0.8819\n",
      "Epoch 8/100\n",
      "3906/3906 [==============================] - 309s 79ms/step - loss: 0.1026 - accuracy: 0.9212 - val_loss: 0.1209 - val_accuracy: 0.8821\n",
      "Epoch 9/100\n",
      "2967/3906 [=====================>........] - ETA: 1:07 - loss: 0.1017 - accuracy: 0.9221"
     ]
    },
    {
     "name": "stderr",
     "output_type": "stream",
     "text": [
      "IOPub message rate exceeded.\n",
      "The notebook server will temporarily stop sending output\n",
      "to the client in order to avoid crashing it.\n",
      "To change this limit, set the config variable\n",
      "`--NotebookApp.iopub_msg_rate_limit`.\n",
      "\n",
      "Current values:\n",
      "NotebookApp.iopub_msg_rate_limit=1000.0 (msgs/sec)\n",
      "NotebookApp.rate_limit_window=3.0 (secs)\n",
      "\n"
     ]
    },
    {
     "name": "stdout",
     "output_type": "stream",
     "text": [
      "3084/3906 [======================>.......] - ETA: 59s - loss: 0.1008 - accuracy: 0.9229"
     ]
    },
    {
     "name": "stderr",
     "output_type": "stream",
     "text": [
      "IOPub message rate exceeded.\n",
      "The notebook server will temporarily stop sending output\n",
      "to the client in order to avoid crashing it.\n",
      "To change this limit, set the config variable\n",
      "`--NotebookApp.iopub_msg_rate_limit`.\n",
      "\n",
      "Current values:\n",
      "NotebookApp.iopub_msg_rate_limit=1000.0 (msgs/sec)\n",
      "NotebookApp.rate_limit_window=3.0 (secs)\n",
      "\n"
     ]
    },
    {
     "name": "stdout",
     "output_type": "stream",
     "text": [
      "3121/3906 [======================>.......] - ETA: 58s - loss: 0.1002 - accuracy: 0.9229"
     ]
    },
    {
     "name": "stderr",
     "output_type": "stream",
     "text": [
      "IOPub message rate exceeded.\n",
      "The notebook server will temporarily stop sending output\n",
      "to the client in order to avoid crashing it.\n",
      "To change this limit, set the config variable\n",
      "`--NotebookApp.iopub_msg_rate_limit`.\n",
      "\n",
      "Current values:\n",
      "NotebookApp.iopub_msg_rate_limit=1000.0 (msgs/sec)\n",
      "NotebookApp.rate_limit_window=3.0 (secs)\n",
      "\n"
     ]
    },
    {
     "name": "stdout",
     "output_type": "stream",
     "text": [
      "3168/3906 [=======================>......] - ETA: 53s - loss: 0.1001 - accuracy: 0.9232"
     ]
    },
    {
     "name": "stderr",
     "output_type": "stream",
     "text": [
      "IOPub message rate exceeded.\n",
      "The notebook server will temporarily stop sending output\n",
      "to the client in order to avoid crashing it.\n",
      "To change this limit, set the config variable\n",
      "`--NotebookApp.iopub_msg_rate_limit`.\n",
      "\n",
      "Current values:\n",
      "NotebookApp.iopub_msg_rate_limit=1000.0 (msgs/sec)\n",
      "NotebookApp.rate_limit_window=3.0 (secs)\n",
      "\n"
     ]
    },
    {
     "name": "stdout",
     "output_type": "stream",
     "text": [
      "3627/3906 [==========================>...] - ETA: 19s - loss: 0.0998 - accuracy: 0.9233"
     ]
    },
    {
     "name": "stderr",
     "output_type": "stream",
     "text": [
      "IOPub message rate exceeded.\n",
      "The notebook server will temporarily stop sending output\n",
      "to the client in order to avoid crashing it.\n",
      "To change this limit, set the config variable\n",
      "`--NotebookApp.iopub_msg_rate_limit`.\n",
      "\n",
      "Current values:\n",
      "NotebookApp.iopub_msg_rate_limit=1000.0 (msgs/sec)\n",
      "NotebookApp.rate_limit_window=3.0 (secs)\n",
      "\n"
     ]
    },
    {
     "name": "stdout",
     "output_type": "stream",
     "text": [
      "3906/3906 [==============================] - 309s 79ms/step - loss: 0.0997 - accuracy: 0.9232 - val_loss: 0.1204 - val_accuracy: 0.8792\n",
      "Epoch 20/100\n",
      " 102/3906 [..............................] - ETA: 4:16 - loss: 0.0990 - accuracy: 0.9234"
     ]
    },
    {
     "name": "stderr",
     "output_type": "stream",
     "text": [
      "IOPub message rate exceeded.\n",
      "The notebook server will temporarily stop sending output\n",
      "to the client in order to avoid crashing it.\n",
      "To change this limit, set the config variable\n",
      "`--NotebookApp.iopub_msg_rate_limit`.\n",
      "\n",
      "Current values:\n",
      "NotebookApp.iopub_msg_rate_limit=1000.0 (msgs/sec)\n",
      "NotebookApp.rate_limit_window=3.0 (secs)\n",
      "\n"
     ]
    }
   ],
   "source": [
    "# history = model.fit_generator(train_generator, steps_per_epoch=NUM_TRAIN_STEPS, epochs=100, \n",
    "#     validation_data=validation_generator, validation_steps=NUM_VAL_STEPS, \n",
    "#     callbacks=[tensorboard, lr_reducer, stopper, checkpointer])"
   ]
  },
  {
   "cell_type": "code",
   "execution_count": 13,
   "metadata": {},
   "outputs": [
    {
     "name": "stdout",
     "output_type": "stream",
     "text": [
      "500000/500000 [==============================] - 65s 129us/step\n"
     ]
    }
   ],
   "source": [
    "NUM_TEST_PAIRS = 500000\n",
    "\n",
    "inputs, true = next(create_generator(LIBERTY, NUM_TEST_PAIRS, NUM_TEST_PAIRS, augmentate=False))\n",
    "\n",
    "pred = model.predict(inputs, verbose=1)\n",
    "pred = pred.ravel()"
   ]
  },
  {
   "cell_type": "code",
   "execution_count": 14,
   "metadata": {},
   "outputs": [
    {
     "data": {
      "image/png": "[encoded data removed]",
      "text/plain": [
       "<Figure size 432x288 with 1 Axes>"
      ]
     },
     "metadata": {},
     "output_type": "display_data"
    }
   ],
   "source": [
    "from sklearn.metrics import roc_curve, auc\n",
    "\n",
    "fpr, tpr, thresholds = roc_curve(true, pred)\n",
    "roc_auc = auc(fpr, tpr)\n",
    "plt.grid()\n",
    "plt.plot(fpr, tpr, label=f'AUC={roc_auc:0.2f}')\n",
    "plt.legend()\n",
    "plt.show()"
   ]
  },
  {
   "cell_type": "code",
   "execution_count": 15,
   "metadata": {},
   "outputs": [
    {
     "data": {
      "text/plain": [
       "0.211072"
      ]
     },
     "execution_count": 15,
     "metadata": {},
     "output_type": "execute_result"
    }
   ],
   "source": [
    "def fpr95(fpr, tpr):\n",
    "    assert len(fpr) == len(tpr)\n",
    "    return fpr[np.abs(tpr - 0.95).argmin()]\n",
    "    \n",
    "fpr95(fpr, tpr)"
   ]
  },
  {
   "cell_type": "code",
   "execution_count": 16,
   "metadata": {},
   "outputs": [
    {
     "data": {
      "text/plain": [
       "0.884352"
      ]
     },
     "execution_count": 16,
     "metadata": {},
     "output_type": "execute_result"
    }
   ],
   "source": [
    "from sklearn.metrics import accuracy_score\n",
    "\n",
    "accuracy_score(pred > 0.5, true)"
   ]
  },
  {
   "cell_type": "code",
   "execution_count": 149,
   "metadata": {},
   "outputs": [
    {
     "data": {
      "text/plain": [
       "0.9857954"
      ]
     },
     "execution_count": 149,
     "metadata": {},
     "output_type": "execute_result"
    }
   ],
   "source": [
    "max(pred)"
   ]
  },
  {
   "cell_type": "code",
   "execution_count": 150,
   "metadata": {},
   "outputs": [
    {
     "data": {
      "text/plain": [
       "[<keras.engine.topology.InputLayer at 0x7f27f8075240>,\n",
       " <keras.engine.topology.InputLayer at 0x7f27f8075d68>,\n",
       " <keras.models.Sequential at 0x7f2808f66908>,\n",
       " <keras.layers.core.Lambda at 0x7f27f12202b0>]"
      ]
     },
     "execution_count": 150,
     "metadata": {},
     "output_type": "execute_result"
    }
   ],
   "source": [
    "model.layers"
   ]
  },
  {
   "cell_type": "code",
   "execution_count": 151,
   "metadata": {},
   "outputs": [
    {
     "data": {
      "text/plain": [
       "0.9999999771512746"
      ]
     },
     "execution_count": 151,
     "metadata": {},
     "output_type": "execute_result"
    }
   ],
   "source": [
    "from numpy.linalg import norm\n",
    "\n",
    "descr = model.layers[2]\n",
    "embeddings = descr.predict(inputs[1])\n",
    "\n",
    "sum(norm(e) for e in embeddings) / len(embeddings)"
   ]
  },
  {
   "cell_type": "code",
   "execution_count": 161,
   "metadata": {},
   "outputs": [
    {
     "data": {
      "image/png": "[encoded data removed]",
      "text/plain": [
       "<Figure size 1152x288 with 2 Axes>"
      ]
     },
     "metadata": {},
     "output_type": "display_data"
    },
    {
     "name": "stdout",
     "output_type": "stream",
     "text": [
      "0.66947514 1\n"
     ]
    }
   ],
   "source": [
    "%autoreload\n",
    "\n",
    "from utils import show_images\n",
    "\n",
    "x = np.random.randint(0, NUM_TEST_PAIRS)\n",
    "show_images([inputs[0][x], inputs[1][x]])\n",
    "print(pred[x], true[x])"
   ]
  },
  {
   "cell_type": "markdown",
   "metadata": {},
   "source": [
    "# Texts dataset"
   ]
  },
  {
   "cell_type": "code",
   "execution_count": 191,
   "metadata": {},
   "outputs": [],
   "source": [
    "import os\n",
    "\n",
    "TEXTS = f'{DATA_ROOT}/texts'\n",
    "AUG_TEXTS = f'/home/semyon/abbyy-diploma/descriptor/data/texts_heavy_aug'\n",
    "csv_files = [os.path.join(AUG_TEXTS, file) for file in os.listdir(AUG_TEXTS) if file.endswith('.csv')]\n",
    "n_files = len(csv_files)\n",
    "train_csv_files, val_csv_files = csv_files[:int(0.7 * n_files)], csv_files[int(0.7 * n_files):]\n",
    "assert len(train_csv_files) + len(val_csv_files) == n_files"
   ]
  },
  {
   "cell_type": "code",
   "execution_count": 192,
   "metadata": {},
   "outputs": [],
   "source": [
    "model.compile(loss=contrastive_loss, optimizer=Adam(), metrics=[accuracy])"
   ]
  },
  {
   "cell_type": "code",
   "execution_count": 193,
   "metadata": {},
   "outputs": [],
   "source": [
    "%autoreload\n",
    "from utils import create_text_patches_generator\n",
    "\n",
    "BATCH_SIZE = 128\n",
    "NUM_TRAIN_STEPS = 10\n",
    "NUM_VAL_STEPS = 5\n",
    "\n",
    "train_generator = create_text_patches_generator(train_csv_files, BATCH_SIZE, augmentate=True)\n",
    "validation_generator = create_text_patches_generator(val_csv_files, BATCH_SIZE, augmentate=False)\n",
    "\n",
    "tensorboard = BatchTensorBoard(log_dir='siam-l2-texts-logs')\n",
    "lr_reducer = ReduceLROnPlateau(monitor='val_loss', factor=0.5, patience=5, min_lr=1e-5)\n",
    "stopper = EarlyStopping(monitor='val_loss', patience=10)\n",
    "checkpointer = ModelCheckpoint('siam-l2-texts-weights.hdf5')"
   ]
  },
  {
   "cell_type": "code",
   "execution_count": 194,
   "metadata": {},
   "outputs": [],
   "source": [
    "!rm -r siam-l2-texts-logs"
   ]
  },
  {
   "cell_type": "code",
   "execution_count": 233,
   "metadata": {},
   "outputs": [
    {
     "name": "stdout",
     "output_type": "stream",
     "text": [
      "Epoch 1/100\n",
      "10/10 [==============================] - 52s 5s/step - loss: 0.0615 - accuracy: 0.9586 - val_loss: 0.1221 - val_accuracy: 0.8500\n",
      "Epoch 2/100\n",
      "10/10 [==============================] - 34s 3s/step - loss: 0.0545 - accuracy: 0.9797 - val_loss: 0.1358 - val_accuracy: 0.8125\n",
      "Epoch 3/100\n",
      "10/10 [==============================] - 35s 4s/step - loss: 0.0680 - accuracy: 0.9359 - val_loss: 0.0930 - val_accuracy: 0.8969\n",
      "Epoch 4/100\n",
      "10/10 [==============================] - 38s 4s/step - loss: 0.0597 - accuracy: 0.9594 - val_loss: 0.0686 - val_accuracy: 0.9484\n",
      "Epoch 5/100\n",
      "10/10 [==============================] - 37s 4s/step - loss: 0.0615 - accuracy: 0.9523 - val_loss: 0.1078 - val_accuracy: 0.8594\n",
      "Epoch 6/100\n",
      "10/10 [==============================] - 33s 3s/step - loss: 0.0571 - accuracy: 0.9641 - val_loss: 0.1190 - val_accuracy: 0.8391\n",
      "Epoch 7/100\n",
      "10/10 [==============================] - 34s 3s/step - loss: 0.0552 - accuracy: 0.9672 - val_loss: 0.0803 - val_accuracy: 0.9125\n",
      "Epoch 8/100\n",
      "10/10 [==============================] - 40s 4s/step - loss: 0.0612 - accuracy: 0.9508 - val_loss: 0.0777 - val_accuracy: 0.9187\n",
      "Epoch 9/100\n",
      "10/10 [==============================] - 37s 4s/step - loss: 0.0551 - accuracy: 0.9703 - val_loss: 0.0897 - val_accuracy: 0.8938\n",
      "Epoch 10/100\n",
      "10/10 [==============================] - 40s 4s/step - loss: 0.0666 - accuracy: 0.9406 - val_loss: 0.1097 - val_accuracy: 0.8531\n",
      "Epoch 11/100\n",
      "10/10 [==============================] - 38s 4s/step - loss: 0.0568 - accuracy: 0.9680 - val_loss: 0.1013 - val_accuracy: 0.8703\n",
      "Epoch 12/100\n",
      "10/10 [==============================] - 35s 4s/step - loss: 0.0587 - accuracy: 0.9672 - val_loss: 0.0945 - val_accuracy: 0.8984\n",
      "Epoch 13/100\n",
      "10/10 [==============================] - 34s 3s/step - loss: 0.0657 - accuracy: 0.9547 - val_loss: 0.0743 - val_accuracy: 0.9297\n",
      "Epoch 14/100\n",
      "10/10 [==============================] - 37s 4s/step - loss: 0.0581 - accuracy: 0.9609 - val_loss: 0.0671 - val_accuracy: 0.9375\n",
      "Epoch 15/100\n",
      "10/10 [==============================] - 36s 4s/step - loss: 0.0556 - accuracy: 0.9609 - val_loss: 0.0823 - val_accuracy: 0.9078\n",
      "Epoch 16/100\n",
      "10/10 [==============================] - 38s 4s/step - loss: 0.0539 - accuracy: 0.9680 - val_loss: 0.0801 - val_accuracy: 0.9062\n",
      "Epoch 17/100\n",
      "10/10 [==============================] - 43s 4s/step - loss: 0.0611 - accuracy: 0.9523 - val_loss: 0.0665 - val_accuracy: 0.9328\n",
      "Epoch 18/100\n",
      "10/10 [==============================] - 35s 4s/step - loss: 0.0535 - accuracy: 0.9742 - val_loss: 0.0632 - val_accuracy: 0.9547\n",
      "Epoch 19/100\n",
      "10/10 [==============================] - 30s 3s/step - loss: 0.0510 - accuracy: 0.9734 - val_loss: 0.0542 - val_accuracy: 0.9625\n",
      "Epoch 20/100\n",
      "10/10 [==============================] - 38s 4s/step - loss: 0.0635 - accuracy: 0.9477 - val_loss: 0.0602 - val_accuracy: 0.9547\n",
      "Epoch 21/100\n",
      "10/10 [==============================] - 38s 4s/step - loss: 0.0549 - accuracy: 0.9656 - val_loss: 0.0639 - val_accuracy: 0.9484\n",
      "Epoch 22/100\n",
      " 7/10 [====================>.........] - ETA: 3s - loss: 0.0571 - accuracy: 0.9688"
     ]
    },
    {
     "ename": "KeyboardInterrupt",
     "evalue": "",
     "output_type": "error",
     "traceback": [
      "\u001b[0;31m---------------------------------------------------------------------------\u001b[0m",
      "\u001b[0;31mKeyboardInterrupt\u001b[0m                         Traceback (most recent call last)",
      "\u001b[0;32m<ipython-input-233-8a42f78a929d>\u001b[0m in \u001b[0;36m<module>\u001b[0;34m()\u001b[0m\n\u001b[1;32m      1\u001b[0m history = model.fit_generator(train_generator, steps_per_epoch=NUM_TRAIN_STEPS, epochs=100, \n\u001b[1;32m      2\u001b[0m     \u001b[0mvalidation_data\u001b[0m\u001b[0;34m=\u001b[0m\u001b[0mvalidation_generator\u001b[0m\u001b[0;34m,\u001b[0m \u001b[0mvalidation_steps\u001b[0m\u001b[0;34m=\u001b[0m\u001b[0mNUM_VAL_STEPS\u001b[0m\u001b[0;34m,\u001b[0m\u001b[0;34m\u001b[0m\u001b[0m\n\u001b[0;32m----> 3\u001b[0;31m     callbacks=[tensorboard, lr_reducer, stopper, checkpointer], use_multiprocessing=True)\n\u001b[0m",
      "\u001b[0;32m/usr/local/lib/python3.6/dist-packages/keras/legacy/interfaces.py\u001b[0m in \u001b[0;36mwrapper\u001b[0;34m(*args, **kwargs)\u001b[0m\n\u001b[1;32m     89\u001b[0m                 warnings.warn('Update your `' + object_name +\n\u001b[1;32m     90\u001b[0m                               '` call to the Keras 2 API: ' + signature, stacklevel=2)\n\u001b[0;32m---> 91\u001b[0;31m             \u001b[0;32mreturn\u001b[0m \u001b[0mfunc\u001b[0m\u001b[0;34m(\u001b[0m\u001b[0;34m*\u001b[0m\u001b[0margs\u001b[0m\u001b[0;34m,\u001b[0m \u001b[0;34m**\u001b[0m\u001b[0mkwargs\u001b[0m\u001b[0;34m)\u001b[0m\u001b[0;34m\u001b[0m\u001b[0m\n\u001b[0m\u001b[1;32m     92\u001b[0m         \u001b[0mwrapper\u001b[0m\u001b[0;34m.\u001b[0m\u001b[0m_original_function\u001b[0m \u001b[0;34m=\u001b[0m \u001b[0mfunc\u001b[0m\u001b[0;34m\u001b[0m\u001b[0m\n\u001b[1;32m     93\u001b[0m         \u001b[0;32mreturn\u001b[0m \u001b[0mwrapper\u001b[0m\u001b[0;34m\u001b[0m\u001b[0m\n",
      "\u001b[0;32m/usr/local/lib/python3.6/dist-packages/keras/engine/training.py\u001b[0m in \u001b[0;36mfit_generator\u001b[0;34m(self, generator, steps_per_epoch, epochs, verbose, callbacks, validation_data, validation_steps, class_weight, max_queue_size, workers, use_multiprocessing, shuffle, initial_epoch)\u001b[0m\n\u001b[1;32m   2190\u001b[0m                 \u001b[0mbatch_index\u001b[0m \u001b[0;34m=\u001b[0m \u001b[0;36m0\u001b[0m\u001b[0;34m\u001b[0m\u001b[0m\n\u001b[1;32m   2191\u001b[0m                 \u001b[0;32mwhile\u001b[0m \u001b[0msteps_done\u001b[0m \u001b[0;34m<\u001b[0m \u001b[0msteps_per_epoch\u001b[0m\u001b[0;34m:\u001b[0m\u001b[0;34m\u001b[0m\u001b[0m\n\u001b[0;32m-> 2192\u001b[0;31m                     \u001b[0mgenerator_output\u001b[0m \u001b[0;34m=\u001b[0m \u001b[0mnext\u001b[0m\u001b[0;34m(\u001b[0m\u001b[0moutput_generator\u001b[0m\u001b[0;34m)\u001b[0m\u001b[0;34m\u001b[0m\u001b[0m\n\u001b[0m\u001b[1;32m   2193\u001b[0m \u001b[0;34m\u001b[0m\u001b[0m\n\u001b[1;32m   2194\u001b[0m                     \u001b[0;32mif\u001b[0m \u001b[0;32mnot\u001b[0m \u001b[0mhasattr\u001b[0m\u001b[0;34m(\u001b[0m\u001b[0mgenerator_output\u001b[0m\u001b[0;34m,\u001b[0m \u001b[0;34m'__len__'\u001b[0m\u001b[0;34m)\u001b[0m\u001b[0;34m:\u001b[0m\u001b[0;34m\u001b[0m\u001b[0m\n",
      "\u001b[0;32m/usr/local/lib/python3.6/dist-packages/keras/utils/data_utils.py\u001b[0m in \u001b[0;36mget\u001b[0;34m(self)\u001b[0m\n\u001b[1;32m    785\u001b[0m                     \u001b[0;32mraise\u001b[0m \u001b[0mStopIteration\u001b[0m\u001b[0;34m(\u001b[0m\u001b[0;34m)\u001b[0m\u001b[0;34m\u001b[0m\u001b[0m\n\u001b[1;32m    786\u001b[0m                 \u001b[0;32melse\u001b[0m\u001b[0;34m:\u001b[0m\u001b[0;34m\u001b[0m\u001b[0m\n\u001b[0;32m--> 787\u001b[0;31m                     \u001b[0mtime\u001b[0m\u001b[0;34m.\u001b[0m\u001b[0msleep\u001b[0m\u001b[0;34m(\u001b[0m\u001b[0mself\u001b[0m\u001b[0;34m.\u001b[0m\u001b[0mwait_time\u001b[0m\u001b[0;34m)\u001b[0m\u001b[0;34m\u001b[0m\u001b[0m\n\u001b[0m\u001b[1;32m    788\u001b[0m \u001b[0;34m\u001b[0m\u001b[0m\n\u001b[1;32m    789\u001b[0m         \u001b[0;31m# Make sure to rethrow the first exception in the queue, if any\u001b[0m\u001b[0;34m\u001b[0m\u001b[0;34m\u001b[0m\u001b[0m\n",
      "\u001b[0;31mKeyboardInterrupt\u001b[0m: "
     ]
    }
   ],
   "source": [
    "history = model.fit_generator(train_generator, steps_per_epoch=NUM_TRAIN_STEPS, epochs=100, \n",
    "    validation_data=validation_generator, validation_steps=NUM_VAL_STEPS, \n",
    "    callbacks=[tensorboard, lr_reducer, stopper, checkpointer], use_multiprocessing=True)"
   ]
  },
  {
   "cell_type": "code",
   "execution_count": 234,
   "metadata": {},
   "outputs": [],
   "source": [
    "inputs, true = next(create_text_patches_generator(val_csv_files, 1024, augmentate=True))"
   ]
  },
  {
   "cell_type": "code",
   "execution_count": 235,
   "metadata": {},
   "outputs": [
    {
     "name": "stdout",
     "output_type": "stream",
     "text": [
      "1024/1024 [==============================] - 0s 120us/step\n"
     ]
    }
   ],
   "source": [
    "pred = model.predict(inputs, verbose=1)\n",
    "pred = pred.ravel()"
   ]
  },
  {
   "cell_type": "code",
   "execution_count": 236,
   "metadata": {},
   "outputs": [
    {
     "data": {
      "image/png": "[encoded data removed]",
      "text/plain": [
       "<Figure size 432x288 with 1 Axes>"
      ]
     },
     "metadata": {},
     "output_type": "display_data"
    }
   ],
   "source": [
    "from sklearn.metrics import roc_curve, auc\n",
    "\n",
    "fpr, tpr, thresholds = roc_curve(true, pred)\n",
    "roc_auc = auc(fpr, tpr)\n",
    "plt.grid()\n",
    "plt.plot(fpr, tpr, label=f'AUC={roc_auc:0.2f}')\n",
    "plt.legend()\n",
    "plt.show()"
   ]
  },
  {
   "cell_type": "code",
   "execution_count": 237,
   "metadata": {},
   "outputs": [
    {
     "data": {
      "text/plain": [
       "0.0"
      ]
     },
     "execution_count": 237,
     "metadata": {},
     "output_type": "execute_result"
    }
   ],
   "source": [
    "fpr95(fpr, tpr)"
   ]
  },
  {
   "cell_type": "code",
   "execution_count": 238,
   "metadata": {},
   "outputs": [
    {
     "data": {
      "text/plain": [
       "0.9892578125"
      ]
     },
     "execution_count": 238,
     "metadata": {},
     "output_type": "execute_result"
    }
   ],
   "source": [
    "accuracy_score(pred > 0.2, true)"
   ]
  },
  {
   "cell_type": "code",
   "execution_count": 244,
   "metadata": {},
   "outputs": [
    {
     "data": {
      "image/png": "[encoded data removed]",
      "text/plain": [
       "<Figure size 1152x288 with 2 Axes>"
      ]
     },
     "metadata": {},
     "output_type": "display_data"
    },
    {
     "name": "stdout",
     "output_type": "stream",
     "text": [
      "0.6802343 1\n"
     ]
    }
   ],
   "source": [
    "from utils import show_images\n",
    "\n",
    "x = np.random.randint(0, 1024)\n",
    "show_images([inputs[0][x], inputs[1][x]])\n",
    "print(pred[x], true[x])"
   ]
  },
  {
   "cell_type": "code",
   "execution_count": null,
   "metadata": {},
   "outputs": [],
   "source": []
  }
 ],
 "metadata": {
  "kernelspec": {
   "display_name": "Python 3",
   "language": "python",
   "name": "python3"
  },
  "language_info": {
   "codemirror_mode": {
    "name": "ipython",
    "version": 3
   },
   "file_extension": ".py",
   "mimetype": "text/x-python",
   "name": "python",
   "nbconvert_exporter": "python",
   "pygments_lexer": "ipython3",
   "version": "3.6.3"
  }
 },
 "nbformat": 4,
 "nbformat_minor": 2
}
