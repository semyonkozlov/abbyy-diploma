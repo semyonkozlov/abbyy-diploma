{
 "cells": [
  {
   "cell_type": "code",
   "execution_count": 1,
   "metadata": {},
   "outputs": [
    {
     "name": "stderr",
     "output_type": "stream",
     "text": [
      "/home/semyon/.local/lib/python3.6/site-packages/h5py/__init__.py:36: FutureWarning: Conversion of the second argument of issubdtype from `float` to `np.floating` is deprecated. In future, it will be treated as `np.float64 == np.dtype(float).type`.\n",
      "  from ._conv import register_converters as _register_converters\n",
      "Using TensorFlow backend.\n"
     ]
    }
   ],
   "source": [
    "import numpy as np\n",
    "\n",
    "import keras\n",
    "import keras.backend as K\n",
    "import pandas as pd\n",
    "import tensorflow as tf\n",
    "\n",
    "import matplotlib.pyplot as plt\n",
    "%matplotlib inline\n",
    "\n",
    "%config InlineBackend.fugure_format = 'retina'\n",
    "\n",
    "%load_ext autoreload"
   ]
  },
  {
   "cell_type": "code",
   "execution_count": 2,
   "metadata": {},
   "outputs": [
    {
     "name": "stdout",
     "output_type": "stream",
     "text": [
      "channels_last\n"
     ]
    }
   ],
   "source": [
    "print(K.image_data_format())"
   ]
  },
  {
   "cell_type": "code",
   "execution_count": 3,
   "metadata": {},
   "outputs": [],
   "source": [
    "IMAGE_PATCH_SHAPE = (64, 64, 1)"
   ]
  },
  {
   "cell_type": "code",
   "execution_count": 4,
   "metadata": {},
   "outputs": [
    {
     "name": "stdout",
     "output_type": "stream",
     "text": [
      "(None, 64, 64, 1) (None, 256)\n"
     ]
    }
   ],
   "source": [
    "from keras.models import Sequential\n",
    "from keras.layers import Conv2D, MaxPooling2D, Dense, Dropout, Lambda, Flatten, BatchNormalization, Activation\n",
    "from keras.regularizers import l2\n",
    "    \n",
    "WEIGHT_DECAY = 5e-4 / 2 # for weight regularization\n",
    "    \n",
    "# siam-l2 from \"Learning to Compare Image Patches via Convolutional Neural Networks\"\n",
    "descriptor = Sequential()\n",
    "\n",
    "descriptor.add(Lambda(lambda x : x / 255, input_shape=IMAGE_PATCH_SHAPE))\n",
    "\n",
    "descriptor.add(Conv2D(96, kernel_size=7, strides=3, kernel_regularizer=l2(WEIGHT_DECAY)))\n",
    "descriptor.add(BatchNormalization())\n",
    "descriptor.add(Activation('relu'))\n",
    "descriptor.add(MaxPooling2D(pool_size=2, strides=2))\n",
    "#descriptor.add(Dropout(0.2))\n",
    "\n",
    "descriptor.add(Conv2D(192, kernel_size=5, strides=1, kernel_regularizer=l2(WEIGHT_DECAY)))\n",
    "descriptor.add(BatchNormalization())\n",
    "descriptor.add(Activation('relu'))\n",
    "descriptor.add(MaxPooling2D(pool_size=2, strides=2))\n",
    "#descriptor.add(Dropout(0.2))\n",
    "\n",
    "descriptor.add(Conv2D(256, kernel_size=3, strides=1, kernel_regularizer=l2(WEIGHT_DECAY)))\n",
    "descriptor.add(BatchNormalization())\n",
    "descriptor.add(Flatten())\n",
    "\n",
    "descriptor.add(Lambda(lambda x : tf.nn.l2_normalize(x, axis=1))) \n",
    "\n",
    "print(descriptor.input_shape, descriptor.output_shape)"
   ]
  },
  {
   "cell_type": "code",
   "execution_count": 5,
   "metadata": {},
   "outputs": [
    {
     "name": "stdout",
     "output_type": "stream",
     "text": [
      "[(None, 64, 64, 1), (None, 64, 64, 1)] (None, 1)\n"
     ]
    }
   ],
   "source": [
    "from keras.models import Model\n",
    "from keras.layers import Input\n",
    "\n",
    "input_a = Input(shape=IMAGE_PATCH_SHAPE)\n",
    "input_b = Input(shape=IMAGE_PATCH_SHAPE)\n",
    "\n",
    "descriptor_a = descriptor(input_a)\n",
    "descriptor_b = descriptor(input_b)\n",
    "\n",
    "def euclidean_distance(vects):\n",
    "    assert len(vects) == 2\n",
    "    x, y = vects\n",
    "    return K.sqrt(K.maximum(K.sum(K.square(x - y), axis=1, keepdims=True), K.epsilon())) / 2\n",
    "\n",
    "distance = Lambda(euclidean_distance)([descriptor_a, descriptor_b])\n",
    "model = Model(inputs=[input_a, input_b], outputs=distance)\n",
    "\n",
    "print(model.input_shape, model.output_shape)"
   ]
  },
  {
   "cell_type": "code",
   "execution_count": 6,
   "metadata": {},
   "outputs": [
    {
     "data": {
      "image/svg+xml": [
       "<svg height=\"221pt\" viewBox=\"0.00 0.00 756.00 221.00\" width=\"756pt\" xmlns=\"http://www.w3.org/2000/svg\" xmlns:xlink=\"http://www.w3.org/1999/xlink\">\n",
       "<g class=\"graph\" id=\"graph0\" transform=\"scale(1 1) rotate(0) translate(4 217)\">\n",
       "<title>G</title>\n",
       "<polygon fill=\"white\" points=\"-4,4 -4,-217 752,-217 752,4 -4,4\" stroke=\"none\"/>\n",
       "<!-- 140684817797696 -->\n",
       "<g class=\"node\" id=\"node1\"><title>140684817797696</title>\n",
       "<polygon fill=\"none\" points=\"0,-166.5 0,-212.5 365,-212.5 365,-166.5 0,-166.5\" stroke=\"black\"/>\n",
       "<text font-family=\"Times,serif\" font-size=\"14.00\" text-anchor=\"middle\" x=\"80\" y=\"-185.8\">input_1: InputLayer</text>\n",
       "<polyline fill=\"none\" points=\"160,-166.5 160,-212.5 \" stroke=\"black\"/>\n",
       "<text font-family=\"Times,serif\" font-size=\"14.00\" text-anchor=\"middle\" x=\"194\" y=\"-197.3\">input:</text>\n",
       "<polyline fill=\"none\" points=\"160,-189.5 228,-189.5 \" stroke=\"black\"/>\n",
       "<text font-family=\"Times,serif\" font-size=\"14.00\" text-anchor=\"middle\" x=\"194\" y=\"-174.3\">output:</text>\n",
       "<polyline fill=\"none\" points=\"228,-166.5 228,-212.5 \" stroke=\"black\"/>\n",
       "<text font-family=\"Times,serif\" font-size=\"14.00\" text-anchor=\"middle\" x=\"296.5\" y=\"-197.3\">(None, 64, 64, 1)</text>\n",
       "<polyline fill=\"none\" points=\"228,-189.5 365,-189.5 \" stroke=\"black\"/>\n",
       "<text font-family=\"Times,serif\" font-size=\"14.00\" text-anchor=\"middle\" x=\"296.5\" y=\"-174.3\">(None, 64, 64, 1)</text>\n",
       "</g>\n",
       "<!-- 140685678373184 -->\n",
       "<g class=\"node\" id=\"node3\"><title>140685678373184</title>\n",
       "<polygon fill=\"none\" points=\"174.5,-83.5 174.5,-129.5 572.5,-129.5 572.5,-83.5 174.5,-83.5\" stroke=\"black\"/>\n",
       "<text font-family=\"Times,serif\" font-size=\"14.00\" text-anchor=\"middle\" x=\"271\" y=\"-102.8\">sequential_1: Sequential</text>\n",
       "<polyline fill=\"none\" points=\"367.5,-83.5 367.5,-129.5 \" stroke=\"black\"/>\n",
       "<text font-family=\"Times,serif\" font-size=\"14.00\" text-anchor=\"middle\" x=\"401.5\" y=\"-114.3\">input:</text>\n",
       "<polyline fill=\"none\" points=\"367.5,-106.5 435.5,-106.5 \" stroke=\"black\"/>\n",
       "<text font-family=\"Times,serif\" font-size=\"14.00\" text-anchor=\"middle\" x=\"401.5\" y=\"-91.3\">output:</text>\n",
       "<polyline fill=\"none\" points=\"435.5,-83.5 435.5,-129.5 \" stroke=\"black\"/>\n",
       "<text font-family=\"Times,serif\" font-size=\"14.00\" text-anchor=\"middle\" x=\"504\" y=\"-114.3\">(None, 64, 64, 1)</text>\n",
       "<polyline fill=\"none\" points=\"435.5,-106.5 572.5,-106.5 \" stroke=\"black\"/>\n",
       "<text font-family=\"Times,serif\" font-size=\"14.00\" text-anchor=\"middle\" x=\"504\" y=\"-91.3\">(None, 256)</text>\n",
       "</g>\n",
       "<!-- 140684817797696&#45;&gt;140685678373184 -->\n",
       "<g class=\"edge\" id=\"edge1\"><title>140684817797696-&gt;140685678373184</title>\n",
       "<path d=\"M234.439,-166.473C258.438,-156.296 287.107,-144.138 312.162,-133.512\" fill=\"none\" stroke=\"black\"/>\n",
       "<polygon fill=\"black\" points=\"313.731,-136.649 321.571,-129.522 310.998,-130.204 313.731,-136.649\" stroke=\"black\"/>\n",
       "</g>\n",
       "<!-- 140684817800552 -->\n",
       "<g class=\"node\" id=\"node2\"><title>140684817800552</title>\n",
       "<polygon fill=\"none\" points=\"383,-166.5 383,-212.5 748,-212.5 748,-166.5 383,-166.5\" stroke=\"black\"/>\n",
       "<text font-family=\"Times,serif\" font-size=\"14.00\" text-anchor=\"middle\" x=\"463\" y=\"-185.8\">input_2: InputLayer</text>\n",
       "<polyline fill=\"none\" points=\"543,-166.5 543,-212.5 \" stroke=\"black\"/>\n",
       "<text font-family=\"Times,serif\" font-size=\"14.00\" text-anchor=\"middle\" x=\"577\" y=\"-197.3\">input:</text>\n",
       "<polyline fill=\"none\" points=\"543,-189.5 611,-189.5 \" stroke=\"black\"/>\n",
       "<text font-family=\"Times,serif\" font-size=\"14.00\" text-anchor=\"middle\" x=\"577\" y=\"-174.3\">output:</text>\n",
       "<polyline fill=\"none\" points=\"611,-166.5 611,-212.5 \" stroke=\"black\"/>\n",
       "<text font-family=\"Times,serif\" font-size=\"14.00\" text-anchor=\"middle\" x=\"679.5\" y=\"-197.3\">(None, 64, 64, 1)</text>\n",
       "<polyline fill=\"none\" points=\"611,-189.5 748,-189.5 \" stroke=\"black\"/>\n",
       "<text font-family=\"Times,serif\" font-size=\"14.00\" text-anchor=\"middle\" x=\"679.5\" y=\"-174.3\">(None, 64, 64, 1)</text>\n",
       "</g>\n",
       "<!-- 140684817800552&#45;&gt;140685678373184 -->\n",
       "<g class=\"edge\" id=\"edge2\"><title>140684817800552-&gt;140685678373184</title>\n",
       "<path d=\"M513.289,-166.473C489.165,-156.296 460.345,-144.138 435.159,-133.512\" fill=\"none\" stroke=\"black\"/>\n",
       "<polygon fill=\"black\" points=\"436.275,-130.185 425.701,-129.522 433.554,-136.634 436.275,-130.185\" stroke=\"black\"/>\n",
       "</g>\n",
       "<!-- 140684813451952 -->\n",
       "<g class=\"node\" id=\"node4\"><title>140684813451952</title>\n",
       "<polygon fill=\"none\" points=\"160.5,-0.5 160.5,-46.5 586.5,-46.5 586.5,-0.5 160.5,-0.5\" stroke=\"black\"/>\n",
       "<text font-family=\"Times,serif\" font-size=\"14.00\" text-anchor=\"middle\" x=\"236.5\" y=\"-19.8\">lambda_3: Lambda</text>\n",
       "<polyline fill=\"none\" points=\"312.5,-0.5 312.5,-46.5 \" stroke=\"black\"/>\n",
       "<text font-family=\"Times,serif\" font-size=\"14.00\" text-anchor=\"middle\" x=\"346.5\" y=\"-31.3\">input:</text>\n",
       "<polyline fill=\"none\" points=\"312.5,-23.5 380.5,-23.5 \" stroke=\"black\"/>\n",
       "<text font-family=\"Times,serif\" font-size=\"14.00\" text-anchor=\"middle\" x=\"346.5\" y=\"-8.3\">output:</text>\n",
       "<polyline fill=\"none\" points=\"380.5,-0.5 380.5,-46.5 \" stroke=\"black\"/>\n",
       "<text font-family=\"Times,serif\" font-size=\"14.00\" text-anchor=\"middle\" x=\"483.5\" y=\"-31.3\">[(None, 256), (None, 256)]</text>\n",
       "<polyline fill=\"none\" points=\"380.5,-23.5 586.5,-23.5 \" stroke=\"black\"/>\n",
       "<text font-family=\"Times,serif\" font-size=\"14.00\" text-anchor=\"middle\" x=\"483.5\" y=\"-8.3\">(None, 1)</text>\n",
       "</g>\n",
       "<!-- 140685678373184&#45;&gt;140684813451952 -->\n",
       "<g class=\"edge\" id=\"edge3\"><title>140685678373184-&gt;140684813451952</title>\n",
       "<path d=\"M373.5,-83.3664C373.5,-75.1516 373.5,-65.6579 373.5,-56.7252\" fill=\"none\" stroke=\"black\"/>\n",
       "<polygon fill=\"black\" points=\"377,-56.6068 373.5,-46.6068 370,-56.6069 377,-56.6068\" stroke=\"black\"/>\n",
       "</g>\n",
       "</g>\n",
       "</svg>"
      ],
      "text/plain": [
       "<IPython.core.display.SVG object>"
      ]
     },
     "execution_count": 6,
     "metadata": {},
     "output_type": "execute_result"
    }
   ],
   "source": [
    "from IPython.display import SVG\n",
    "from keras.utils.vis_utils import model_to_dot\n",
    "\n",
    "SVG(model_to_dot(model, show_shapes=True).create(prog='dot', format='svg'))"
   ]
  },
  {
   "cell_type": "code",
   "execution_count": 7,
   "metadata": {},
   "outputs": [
    {
     "name": "stdout",
     "output_type": "stream",
     "text": [
      "../data/notredame/m50_100000_100000_0.txt\r\n",
      "../data/notredame/m50_10000_10000_0.txt\r\n",
      "../data/notredame/m50_1000_1000_0.txt\r\n",
      "../data/notredame/m50_200000_200000_0.txt\r\n",
      "../data/notredame/m50_20000_20000_0.txt\r\n",
      "../data/notredame/m50_2000_2000_0.txt\r\n",
      "../data/notredame/m50_500000_500000_0.txt\r\n",
      "../data/notredame/m50_50000_50000_0.txt\r\n",
      "../data/notredame/m50_5000_5000_0.txt\r\n"
     ]
    }
   ],
   "source": [
    "DATA_ROOT = '../data'\n",
    "NOTREDAME = f'{DATA_ROOT}/notredame'\n",
    "LIBERTY = f'{DATA_ROOT}/liberty'\n",
    "\n",
    "!ls {NOTREDAME}/m50_*.txt"
   ]
  },
  {
   "cell_type": "code",
   "execution_count": 8,
   "metadata": {},
   "outputs": [],
   "source": [
    "%autoreload\n",
    "\n",
    "from keras.losses import hinge\n",
    "from keras.optimizers import Adam \n",
    "\n",
    "def accuracy(y_true, y_pred):\n",
    "    return K.mean(K.equal(y_true, K.cast(y_pred > 0.5, y_true.dtype)))\n",
    "\n",
    "def contrastive_loss(y_true, y_pred):\n",
    "    '''Contrastive loss from Hadsell-et-al.'06\n",
    "    http://yann.lecun.com/exdb/publis/pdf/hadsell-chopra-lecun-06.pdf\n",
    "    '''\n",
    "    margin = 1\n",
    "    return K.mean((1 - y_true) * K.square(y_pred) + y_true * K.square(K.maximum(margin - y_pred, 0)))\n",
    "\n",
    "model.compile(loss=contrastive_loss, optimizer=Adam(), metrics=[accuracy])"
   ]
  },
  {
   "cell_type": "code",
   "execution_count": 9,
   "metadata": {},
   "outputs": [],
   "source": [
    "!rm -r siam-l2-aug-reg-logs"
   ]
  },
  {
   "cell_type": "code",
   "execution_count": 10,
   "metadata": {},
   "outputs": [],
   "source": [
    "#model.load_weights('siam-l2-aug-reg-weights.hdf5')"
   ]
  },
  {
   "cell_type": "code",
   "execution_count": 11,
   "metadata": {},
   "outputs": [],
   "source": [
    "from utils import create_generator\n",
    "from keras.callbacks import ReduceLROnPlateau, ModelCheckpoint\n",
    "from batchtensorboard import BatchTensorBoard\n",
    "\n",
    "NUM_TRAIN_PAIRS = 500000\n",
    "NUM_VAL_PAIRS = 100000\n",
    "BATCH_SIZE = 128\n",
    "NUM_TRAIN_STEPS = NUM_TRAIN_PAIRS // BATCH_SIZE\n",
    "NUM_VAL_STEPS = NUM_VAL_PAIRS // BATCH_SIZE\n",
    "\n",
    "train_generator = create_generator(NOTREDAME, NUM_TRAIN_PAIRS, BATCH_SIZE, augmentate=True)\n",
    "validation_generator = create_generator(LIBERTY, NUM_VAL_PAIRS, BATCH_SIZE, augmentate=False)\n",
    "\n",
    "tensorboard = BatchTensorBoard(log_dir='siam-l2-aug-reg-logs')\n",
    "#lr_reducer = ReduceLROnPlateau(monitor='val_loss', factor=0.5, patience=5, min_lr=0.000001)\n",
    "checkpointer = ModelCheckpoint('siam-l2-aug-reg-weights.hdf5')"
   ]
  },
  {
   "cell_type": "code",
   "execution_count": null,
   "metadata": {
    "scrolled": false
   },
   "outputs": [
    {
     "name": "stdout",
     "output_type": "stream",
     "text": [
      "Epoch 1/100\n",
      "3906/3906 [==============================] - 311s 80ms/step - loss: 0.1427 - accuracy: 0.8582 - val_loss: 0.1664 - val_accuracy: 0.7803\n",
      "Epoch 2/100\n",
      "3906/3906 [==============================] - 315s 81ms/step - loss: 0.1267 - accuracy: 0.8858 - val_loss: 0.1353 - val_accuracy: 0.8553\n",
      "Epoch 3/100\n",
      "3906/3906 [==============================] - 302s 77ms/step - loss: 0.1196 - accuracy: 0.8954 - val_loss: 0.1772 - val_accuracy: 0.7319\n",
      "Epoch 4/100\n",
      "3906/3906 [==============================] - 310s 79ms/step - loss: 0.1163 - accuracy: 0.9010 - val_loss: 0.1314 - val_accuracy: 0.8642\n",
      "Epoch 5/100\n",
      "3906/3906 [==============================] - 307s 79ms/step - loss: 0.1144 - accuracy: 0.9049 - val_loss: 0.1312 - val_accuracy: 0.8570\n",
      "Epoch 6/100\n",
      "3906/3906 [==============================] - 308s 79ms/step - loss: 0.1132 - accuracy: 0.9061 - val_loss: 0.1542 - val_accuracy: 0.7995\n",
      "Epoch 7/100\n",
      "3906/3906 [==============================] - 311s 80ms/step - loss: 0.1127 - accuracy: 0.9068 - val_loss: 0.1422 - val_accuracy: 0.8346\n",
      "Epoch 8/100\n",
      "3906/3906 [==============================] - 319s 82ms/step - loss: 0.1123 - accuracy: 0.9073 - val_loss: 0.1673 - val_accuracy: 0.7498\n",
      "Epoch 9/100\n",
      "3906/3906 [==============================] - 309s 79ms/step - loss: 0.1118 - accuracy: 0.9088 - val_loss: 0.1322 - val_accuracy: 0.8626\n",
      "Epoch 10/100\n",
      "3906/3906 [==============================] - 311s 80ms/step - loss: 0.1116 - accuracy: 0.9097 - val_loss: 0.1481 - val_accuracy: 0.8212\n",
      "Epoch 11/100\n",
      "3906/3906 [==============================] - 315s 81ms/step - loss: 0.1114 - accuracy: 0.9100 - val_loss: 0.1281 - val_accuracy: 0.8691\n",
      "Epoch 12/100\n",
      "3906/3906 [==============================] - 311s 80ms/step - loss: 0.1112 - accuracy: 0.9102 - val_loss: 0.1295 - val_accuracy: 0.8641\n",
      "Epoch 13/100\n",
      "3906/3906 [==============================] - 312s 80ms/step - loss: 0.1110 - accuracy: 0.9105 - val_loss: 0.1317 - val_accuracy: 0.8611\n",
      "Epoch 14/100\n",
      "3906/3906 [==============================] - 301s 77ms/step - loss: 0.1108 - accuracy: 0.9105 - val_loss: 0.1323 - val_accuracy: 0.8624\n",
      "Epoch 15/100\n",
      "3906/3906 [==============================] - 304s 78ms/step - loss: 0.1108 - accuracy: 0.9104 - val_loss: 0.1278 - val_accuracy: 0.8689\n",
      "Epoch 16/100\n",
      "3906/3906 [==============================] - 303s 78ms/step - loss: 0.1108 - accuracy: 0.9103 - val_loss: 0.1292 - val_accuracy: 0.8676\n",
      "Epoch 17/100\n",
      "3906/3906 [==============================] - 310s 79ms/step - loss: 0.1107 - accuracy: 0.9106 - val_loss: 0.1318 - val_accuracy: 0.8600\n",
      "Epoch 18/100\n",
      "3825/3906 [============================>.] - ETA: 6s - loss: 0.1106 - accuracy: 0.9107 ETA: 6s - loss:"
     ]
    }
   ],
   "source": [
    "history = model.fit_generator(train_generator, steps_per_epoch=NUM_TRAIN_STEPS, epochs=100, \n",
    "    validation_data=validation_generator, validation_steps=NUM_VAL_STEPS, \n",
    "    callbacks=[tensorboard, checkpointer])"
   ]
  },
  {
   "cell_type": "code",
   "execution_count": 18,
   "metadata": {},
   "outputs": [
    {
     "name": "stdout",
     "output_type": "stream",
     "text": [
      "50000/50000 [==============================] - 7s 130us/step\n"
     ]
    }
   ],
   "source": [
    "NUM_TEST_PAIRS = 50000\n",
    "\n",
    "inputs, true = next(create_generator(LIBERTY, NUM_TEST_PAIRS, NUM_TEST_PAIRS, augmentate=False))\n",
    "pred = model.predict(inputs, verbose=1)"
   ]
  },
  {
   "cell_type": "code",
   "execution_count": 25,
   "metadata": {},
   "outputs": [
    {
     "data": {
      "image/png": "[encoded data removed]",
      "text/plain": [
       "<Figure size 432x288 with 1 Axes>"
      ]
     },
     "metadata": {},
     "output_type": "display_data"
    }
   ],
   "source": [
    "max(pred.ravel())"
   ]
  },
  {
   "cell_type": "code",
   "execution_count": 247,
   "metadata": {},
   "outputs": [
    {
     "data": {
      "image/png": "[encoded data removed]",
      "text/plain": [
       "<Figure size 432x288 with 1 Axes>"
      ]
     },
     "metadata": {},
     "output_type": "display_data"
    }
   ],
   "source": [
    "from sklearn.metrics import roc_curve, auc\n",
    "\n",
    "fpr, tpr, thresholds = roc_curve(true, pred)\n",
    "roc_auc = auc(fpr, tpr)\n",
    "plt.grid()\n",
    "plt.plot(fpr, tpr, label=f'AUC={roc_auc:0.2f}')\n",
    "plt.legend()\n",
    "plt.show()"
   ]
  },
  {
   "cell_type": "code",
   "execution_count": 248,
   "metadata": {},
   "outputs": [
    {
     "data": {
      "text/plain": [
       "[<keras.engine.topology.InputLayer at 0x7fb531317940>,\n",
       " <keras.engine.topology.InputLayer at 0x7fb520147e80>,\n",
       " <keras.models.Sequential at 0x7fb531317ac8>,\n",
       " <keras.layers.core.Lambda at 0x7fb5313179b0>]"
      ]
     },
     "execution_count": 248,
     "metadata": {},
     "output_type": "execute_result"
    }
   ],
   "source": [
    "model.layers"
   ]
  },
  {
   "cell_type": "code",
   "execution_count": 250,
   "metadata": {},
   "outputs": [
    {
     "data": {
      "text/plain": [
       "0.9999999774289131"
      ]
     },
     "execution_count": 250,
     "metadata": {},
     "output_type": "execute_result"
    }
   ],
   "source": [
    "from numpy.linalg import norm\n",
    "\n",
    "descr = model.layers[2]\n",
    "embeddings = descr.predict(inputs[1])\n",
    "\n",
    "sum(norm(e) for e in embeddings) / len(embeddings)"
   ]
  },
  {
   "cell_type": "code",
   "execution_count": 260,
   "metadata": {},
   "outputs": [
    {
     "data": {
      "image/png": "[encoded data removed]",
      "text/plain": [
       "<Figure size 1152x288 with 2 Axes>"
      ]
     },
     "metadata": {},
     "output_type": "display_data"
    },
    {
     "name": "stdout",
     "output_type": "stream",
     "text": [
      "[0.6766008]\n"
     ]
    }
   ],
   "source": [
    "%autoreload\n",
    "\n",
    "from utils import show_images\n",
    "\n",
    "x = np.random.randint(0, NUM_TEST_PAIRS)\n",
    "show_images([inputs[0][x], inputs[1][x]])\n",
    "print(pred[x])"
   ]
  },
  {
   "cell_type": "code",
   "execution_count": 261,
   "metadata": {},
   "outputs": [
    {
     "data": {
      "text/plain": [
       "0.83948"
      ]
     },
     "execution_count": 261,
     "metadata": {},
     "output_type": "execute_result"
    }
   ],
   "source": [
    "from sklearn.metrics import accuracy_score\n",
    "\n",
    "accuracy_score(pred > 0.5, true)"
   ]
  }
 ],
 "metadata": {
  "kernelspec": {
   "display_name": "Python 3",
   "language": "python",
   "name": "python3"
  },
  "language_info": {
   "codemirror_mode": {
    "name": "ipython",
    "version": 3
   },
   "file_extension": ".py",
   "mimetype": "text/x-python",
   "name": "python",
   "nbconvert_exporter": "python",
   "pygments_lexer": "ipython3",
   "version": "3.6.3"
  }
 },
 "nbformat": 4,
 "nbformat_minor": 2
}
