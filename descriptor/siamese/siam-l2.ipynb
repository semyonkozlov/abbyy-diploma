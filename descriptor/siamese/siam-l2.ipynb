{
 "cells": [
  {
   "cell_type": "code",
   "execution_count": 1,
   "metadata": {},
   "outputs": [
    {
     "name": "stderr",
     "output_type": "stream",
     "text": [
      "/home/semyon/.local/lib/python3.6/site-packages/h5py/__init__.py:36: FutureWarning: Conversion of the second argument of issubdtype from `float` to `np.floating` is deprecated. In future, it will be treated as `np.float64 == np.dtype(float).type`.\n",
      "  from ._conv import register_converters as _register_converters\n",
      "Using TensorFlow backend.\n"
     ]
    }
   ],
   "source": [
    "import numpy as np\n",
    "\n",
    "import keras\n",
    "import keras.backend as K\n",
    "import pandas as pd\n",
    "import tensorflow as tf\n",
    "\n",
    "import matplotlib.pyplot as plt\n",
    "%matplotlib inline\n",
    "\n",
    "%config InlineBackend.fugure_format = 'retina'\n",
    "\n",
    "%load_ext autoreload"
   ]
  },
  {
   "cell_type": "code",
   "execution_count": 25,
   "metadata": {},
   "outputs": [
    {
     "name": "stdout",
     "output_type": "stream",
     "text": [
      "channels_last\n"
     ]
    }
   ],
   "source": [
    "print(K.image_data_format())"
   ]
  },
  {
   "cell_type": "code",
   "execution_count": 26,
   "metadata": {},
   "outputs": [],
   "source": [
    "IMAGE_PATCH_SHAPE = (64, 64, 1)"
   ]
  },
  {
   "cell_type": "code",
   "execution_count": 27,
   "metadata": {},
   "outputs": [
    {
     "name": "stdout",
     "output_type": "stream",
     "text": [
      "(None, 64, 64, 1) (None, 256)\n"
     ]
    }
   ],
   "source": [
    "from keras.models import Sequential\n",
    "from keras.layers import Conv2D, MaxPooling2D, Dense, Dropout, Lambda, Flatten, BatchNormalization, Activation\n",
    "from keras.regularizers import l2\n",
    "    \n",
    "WEIGHT_DECAY = 5e-4 / 2 #for weight regularization\n",
    "    \n",
    "# siam-l2 from \"Learning to Compare Image Patches via Convolutional Neural Networks\"\n",
    "descriptor = Sequential()\n",
    "\n",
    "descriptor.add(Lambda(lambda x : (K.cast(x, 'int16') - 128) / 128, input_shape=IMAGE_PATCH_SHAPE))\n",
    "\n",
    "descriptor.add(Conv2D(96, kernel_size=7, strides=3, kernel_regularizer=l2(WEIGHT_DECAY)))\n",
    "descriptor.add(BatchNormalization())\n",
    "descriptor.add(Activation('relu'))\n",
    "descriptor.add(MaxPooling2D(pool_size=2, strides=2))\n",
    "#descriptor.add(Dropout(0.2))\n",
    "\n",
    "descriptor.add(Conv2D(192, kernel_size=5, strides=1, kernel_regularizer=l2(WEIGHT_DECAY)))\n",
    "descriptor.add(BatchNormalization())\n",
    "descriptor.add(Activation('relu'))\n",
    "descriptor.add(MaxPooling2D(pool_size=2, strides=2))\n",
    "#descriptor.add(Dropout(0.2))\n",
    "\n",
    "descriptor.add(Conv2D(256, kernel_size=3, strides=1, kernel_regularizer=l2(WEIGHT_DECAY)))\n",
    "descriptor.add(BatchNormalization())\n",
    "descriptor.add(Activation('relu'))\n",
    "descriptor.add(Flatten())\n",
    "\n",
    "descriptor.add(Lambda(lambda x : tf.nn.l2_normalize(x, axis=1))) # TODO check normalization\n",
    "\n",
    "print(descriptor.input_shape, descriptor.output_shape)"
   ]
  },
  {
   "cell_type": "code",
   "execution_count": 28,
   "metadata": {},
   "outputs": [
    {
     "name": "stdout",
     "output_type": "stream",
     "text": [
      "[(None, 64, 64, 1), (None, 64, 64, 1)] (None, 1)\n"
     ]
    }
   ],
   "source": [
    "from keras.models import Model\n",
    "from keras.layers import Input\n",
    "\n",
    "input_a = Input(shape=IMAGE_PATCH_SHAPE)\n",
    "input_b = Input(shape=IMAGE_PATCH_SHAPE)\n",
    "\n",
    "descriptor_a = descriptor(input_a)\n",
    "descriptor_b = descriptor(input_b)\n",
    "\n",
    "def euclidean_distance(vects):\n",
    "    assert len(vects) == 2\n",
    "    x, y = vects\n",
    "    return -(K.sqrt(K.maximum(K.sum(K.square(x - y), axis=1, keepdims=True), K.epsilon())) - 1)\n",
    "\n",
    "distance = Lambda(euclidean_distance)([descriptor_a, descriptor_b])\n",
    "model = Model(inputs=[input_a, input_b], outputs=distance)\n",
    "\n",
    "print(model.input_shape, model.output_shape)"
   ]
  },
  {
   "cell_type": "code",
   "execution_count": 29,
   "metadata": {},
   "outputs": [
    {
     "data": {
      "image/svg+xml": [
       "<svg height=\"221pt\" viewBox=\"0.00 0.00 756.00 221.00\" width=\"756pt\" xmlns=\"http://www.w3.org/2000/svg\" xmlns:xlink=\"http://www.w3.org/1999/xlink\">\n",
       "<g class=\"graph\" id=\"graph0\" transform=\"scale(1 1) rotate(0) translate(4 217)\">\n",
       "<title>G</title>\n",
       "<polygon fill=\"white\" points=\"-4,4 -4,-217 752,-217 752,4 -4,4\" stroke=\"none\"/>\n",
       "<!-- 140441869450712 -->\n",
       "<g class=\"node\" id=\"node1\"><title>140441869450712</title>\n",
       "<polygon fill=\"none\" points=\"0,-166.5 0,-212.5 365,-212.5 365,-166.5 0,-166.5\" stroke=\"black\"/>\n",
       "<text font-family=\"Times,serif\" font-size=\"14.00\" text-anchor=\"middle\" x=\"80\" y=\"-185.8\">input_5: InputLayer</text>\n",
       "<polyline fill=\"none\" points=\"160,-166.5 160,-212.5 \" stroke=\"black\"/>\n",
       "<text font-family=\"Times,serif\" font-size=\"14.00\" text-anchor=\"middle\" x=\"194\" y=\"-197.3\">input:</text>\n",
       "<polyline fill=\"none\" points=\"160,-189.5 228,-189.5 \" stroke=\"black\"/>\n",
       "<text font-family=\"Times,serif\" font-size=\"14.00\" text-anchor=\"middle\" x=\"194\" y=\"-174.3\">output:</text>\n",
       "<polyline fill=\"none\" points=\"228,-166.5 228,-212.5 \" stroke=\"black\"/>\n",
       "<text font-family=\"Times,serif\" font-size=\"14.00\" text-anchor=\"middle\" x=\"296.5\" y=\"-197.3\">(None, 64, 64, 1)</text>\n",
       "<polyline fill=\"none\" points=\"228,-189.5 365,-189.5 \" stroke=\"black\"/>\n",
       "<text font-family=\"Times,serif\" font-size=\"14.00\" text-anchor=\"middle\" x=\"296.5\" y=\"-174.3\">(None, 64, 64, 1)</text>\n",
       "</g>\n",
       "<!-- 140441847149792 -->\n",
       "<g class=\"node\" id=\"node3\"><title>140441847149792</title>\n",
       "<polygon fill=\"none\" points=\"174.5,-83.5 174.5,-129.5 572.5,-129.5 572.5,-83.5 174.5,-83.5\" stroke=\"black\"/>\n",
       "<text font-family=\"Times,serif\" font-size=\"14.00\" text-anchor=\"middle\" x=\"271\" y=\"-102.8\">sequential_2: Sequential</text>\n",
       "<polyline fill=\"none\" points=\"367.5,-83.5 367.5,-129.5 \" stroke=\"black\"/>\n",
       "<text font-family=\"Times,serif\" font-size=\"14.00\" text-anchor=\"middle\" x=\"401.5\" y=\"-114.3\">input:</text>\n",
       "<polyline fill=\"none\" points=\"367.5,-106.5 435.5,-106.5 \" stroke=\"black\"/>\n",
       "<text font-family=\"Times,serif\" font-size=\"14.00\" text-anchor=\"middle\" x=\"401.5\" y=\"-91.3\">output:</text>\n",
       "<polyline fill=\"none\" points=\"435.5,-83.5 435.5,-129.5 \" stroke=\"black\"/>\n",
       "<text font-family=\"Times,serif\" font-size=\"14.00\" text-anchor=\"middle\" x=\"504\" y=\"-114.3\">(None, 64, 64, 1)</text>\n",
       "<polyline fill=\"none\" points=\"435.5,-106.5 572.5,-106.5 \" stroke=\"black\"/>\n",
       "<text font-family=\"Times,serif\" font-size=\"14.00\" text-anchor=\"middle\" x=\"504\" y=\"-91.3\">(None, 256)</text>\n",
       "</g>\n",
       "<!-- 140441869450712&#45;&gt;140441847149792 -->\n",
       "<g class=\"edge\" id=\"edge1\"><title>140441869450712-&gt;140441847149792</title>\n",
       "<path d=\"M234.439,-166.473C258.438,-156.296 287.107,-144.138 312.162,-133.512\" fill=\"none\" stroke=\"black\"/>\n",
       "<polygon fill=\"black\" points=\"313.731,-136.649 321.571,-129.522 310.998,-130.204 313.731,-136.649\" stroke=\"black\"/>\n",
       "</g>\n",
       "<!-- 140441869451048 -->\n",
       "<g class=\"node\" id=\"node2\"><title>140441869451048</title>\n",
       "<polygon fill=\"none\" points=\"383,-166.5 383,-212.5 748,-212.5 748,-166.5 383,-166.5\" stroke=\"black\"/>\n",
       "<text font-family=\"Times,serif\" font-size=\"14.00\" text-anchor=\"middle\" x=\"463\" y=\"-185.8\">input_6: InputLayer</text>\n",
       "<polyline fill=\"none\" points=\"543,-166.5 543,-212.5 \" stroke=\"black\"/>\n",
       "<text font-family=\"Times,serif\" font-size=\"14.00\" text-anchor=\"middle\" x=\"577\" y=\"-197.3\">input:</text>\n",
       "<polyline fill=\"none\" points=\"543,-189.5 611,-189.5 \" stroke=\"black\"/>\n",
       "<text font-family=\"Times,serif\" font-size=\"14.00\" text-anchor=\"middle\" x=\"577\" y=\"-174.3\">output:</text>\n",
       "<polyline fill=\"none\" points=\"611,-166.5 611,-212.5 \" stroke=\"black\"/>\n",
       "<text font-family=\"Times,serif\" font-size=\"14.00\" text-anchor=\"middle\" x=\"679.5\" y=\"-197.3\">(None, 64, 64, 1)</text>\n",
       "<polyline fill=\"none\" points=\"611,-189.5 748,-189.5 \" stroke=\"black\"/>\n",
       "<text font-family=\"Times,serif\" font-size=\"14.00\" text-anchor=\"middle\" x=\"679.5\" y=\"-174.3\">(None, 64, 64, 1)</text>\n",
       "</g>\n",
       "<!-- 140441869451048&#45;&gt;140441847149792 -->\n",
       "<g class=\"edge\" id=\"edge2\"><title>140441869451048-&gt;140441847149792</title>\n",
       "<path d=\"M513.289,-166.473C489.165,-156.296 460.345,-144.138 435.159,-133.512\" fill=\"none\" stroke=\"black\"/>\n",
       "<polygon fill=\"black\" points=\"436.275,-130.185 425.701,-129.522 433.554,-136.634 436.275,-130.185\" stroke=\"black\"/>\n",
       "</g>\n",
       "<!-- 140441869451104 -->\n",
       "<g class=\"node\" id=\"node4\"><title>140441869451104</title>\n",
       "<polygon fill=\"none\" points=\"160.5,-0.5 160.5,-46.5 586.5,-46.5 586.5,-0.5 160.5,-0.5\" stroke=\"black\"/>\n",
       "<text font-family=\"Times,serif\" font-size=\"14.00\" text-anchor=\"middle\" x=\"236.5\" y=\"-19.8\">lambda_6: Lambda</text>\n",
       "<polyline fill=\"none\" points=\"312.5,-0.5 312.5,-46.5 \" stroke=\"black\"/>\n",
       "<text font-family=\"Times,serif\" font-size=\"14.00\" text-anchor=\"middle\" x=\"346.5\" y=\"-31.3\">input:</text>\n",
       "<polyline fill=\"none\" points=\"312.5,-23.5 380.5,-23.5 \" stroke=\"black\"/>\n",
       "<text font-family=\"Times,serif\" font-size=\"14.00\" text-anchor=\"middle\" x=\"346.5\" y=\"-8.3\">output:</text>\n",
       "<polyline fill=\"none\" points=\"380.5,-0.5 380.5,-46.5 \" stroke=\"black\"/>\n",
       "<text font-family=\"Times,serif\" font-size=\"14.00\" text-anchor=\"middle\" x=\"483.5\" y=\"-31.3\">[(None, 256), (None, 256)]</text>\n",
       "<polyline fill=\"none\" points=\"380.5,-23.5 586.5,-23.5 \" stroke=\"black\"/>\n",
       "<text font-family=\"Times,serif\" font-size=\"14.00\" text-anchor=\"middle\" x=\"483.5\" y=\"-8.3\">(None, 1)</text>\n",
       "</g>\n",
       "<!-- 140441847149792&#45;&gt;140441869451104 -->\n",
       "<g class=\"edge\" id=\"edge3\"><title>140441847149792-&gt;140441869451104</title>\n",
       "<path d=\"M373.5,-83.3664C373.5,-75.1516 373.5,-65.6579 373.5,-56.7252\" fill=\"none\" stroke=\"black\"/>\n",
       "<polygon fill=\"black\" points=\"377,-56.6068 373.5,-46.6068 370,-56.6069 377,-56.6068\" stroke=\"black\"/>\n",
       "</g>\n",
       "</g>\n",
       "</svg>"
      ],
      "text/plain": [
       "<IPython.core.display.SVG object>"
      ]
     },
     "execution_count": 29,
     "metadata": {},
     "output_type": "execute_result"
    }
   ],
   "source": [
    "from IPython.display import SVG\n",
    "from keras.utils.vis_utils import model_to_dot\n",
    "\n",
    "SVG(model_to_dot(model, show_shapes=True).create(prog='dot', format='svg'))"
   ]
  },
  {
   "cell_type": "code",
   "execution_count": 30,
   "metadata": {},
   "outputs": [
    {
     "name": "stdout",
     "output_type": "stream",
     "text": [
      "../data/notredame/m50_100000_100000_0.txt\r\n",
      "../data/notredame/m50_10000_10000_0.txt\r\n",
      "../data/notredame/m50_1000_1000_0.txt\r\n",
      "../data/notredame/m50_200000_200000_0.txt\r\n",
      "../data/notredame/m50_20000_20000_0.txt\r\n",
      "../data/notredame/m50_2000_2000_0.txt\r\n",
      "../data/notredame/m50_500000_500000_0.txt\r\n",
      "../data/notredame/m50_50000_50000_0.txt\r\n",
      "../data/notredame/m50_5000_5000_0.txt\r\n"
     ]
    }
   ],
   "source": [
    "DATA_ROOT = '../data'\n",
    "NOTREDAME = f'{DATA_ROOT}/notredame'\n",
    "LIBERTY = f'{DATA_ROOT}/liberty'\n",
    "\n",
    "!ls {NOTREDAME}/m50_*.txt"
   ]
  },
  {
   "cell_type": "code",
   "execution_count": 31,
   "metadata": {},
   "outputs": [],
   "source": [
    "%autoreload\n",
    "from keras.losses import hinge\n",
    "from keras.optimizers import Adam \n",
    "from utils import contrastive_loss\n",
    "\n",
    "def accuracy(y_true, y_pred):\n",
    "    return K.mean(K.equal(y_true, K.sign(y_pred)), axis=-1)\n",
    "\n",
    "model.compile(loss=hinge, optimizer=Adam(), metrics=[accuracy])"
   ]
  },
  {
   "cell_type": "code",
   "execution_count": 32,
   "metadata": {},
   "outputs": [],
   "source": [
    "!rm -r siam-l2-logs"
   ]
  },
  {
   "cell_type": "code",
   "execution_count": 33,
   "metadata": {},
   "outputs": [],
   "source": [
    "#model.load_weights('siam-l2-weights.hdf5')"
   ]
  },
  {
   "cell_type": "code",
   "execution_count": 34,
   "metadata": {},
   "outputs": [],
   "source": [
    "from utils import create_generator\n",
    "from keras.callbacks import ReduceLROnPlateau, ModelCheckpoint\n",
    "from batchtensorboard import BatchTensorBoard\n",
    "\n",
    "NUM_TRAIN_PAIRS = 500000\n",
    "NUM_VAL_PAIRS = 100000\n",
    "BATCH_SIZE = 128\n",
    "NUM_TRAIN_STEPS = NUM_TRAIN_PAIRS // BATCH_SIZE\n",
    "NUM_VAL_STEPS = NUM_VAL_PAIRS // BATCH_SIZE\n",
    "\n",
    "train_generator = create_generator(NOTREDAME, NUM_TRAIN_PAIRS, BATCH_SIZE, augmentate=True)\n",
    "validation_generator = create_generator(LIBERTY, NUM_VAL_PAIRS, BATCH_SIZE, augmentate=False)\n",
    "\n",
    "tensorboard = BatchTensorBoard(log_dir='siam-l2-logs')\n",
    "lr_reducer = ReduceLROnPlateau(monitor='val_loss', factor=0.5, patience=5, min_lr=0.000001)\n",
    "checkpointer = ModelCheckpoint('siam-l2-weights.hdf5')"
   ]
  },
  {
   "cell_type": "code",
   "execution_count": null,
   "metadata": {
    "scrolled": false
   },
   "outputs": [
    {
     "name": "stdout",
     "output_type": "stream",
     "text": [
      "Epoch 1/100\n",
      "3905/3906 [============================>.] - ETA: 0s - loss: 0.7351 - accuracy: 0.7627"
     ]
    }
   ],
   "source": [
    "history = model.fit_generator(train_generator, steps_per_epoch=NUM_TRAIN_STEPS, epochs=100, \n",
    "    validation_data=validation_generator, validation_steps=NUM_VAL_STEPS, \n",
    "    callbacks=[tensorboard, lr_reducer, checkpointer])"
   ]
  },
  {
   "cell_type": "code",
   "execution_count": 15,
   "metadata": {},
   "outputs": [
    {
     "name": "stdout",
     "output_type": "stream",
     "text": [
      "5000/5000 [==============================] - 1s 148us/step\n"
     ]
    }
   ],
   "source": [
    "inputs, true = next(create_generator(LIBERTY, num_pairs=1000, batch_size=1000, augmentate=False))\n",
    "pred = model.predict(inputs, verbose=1)"
   ]
  },
  {
   "cell_type": "code",
   "execution_count": 17,
   "metadata": {
    "scrolled": true
   },
   "outputs": [
    {
     "name": "stdout",
     "output_type": "stream",
     "text": [
      "[ 9.9743336e-01 -4.1421354e-01  9.2735618e-01 -4.1416550e-01\n",
      "  9.9720269e-01 -4.1421354e-01  9.9392772e-01  5.9604645e-08\n",
      "  8.2511866e-01 -4.1421354e-01  9.8368061e-01 -4.1421354e-01\n",
      "  9.5794493e-01 -4.1421354e-01  9.5402884e-01 -4.1421354e-01\n",
      "  9.9654281e-01 -4.1421354e-01  9.4895232e-01 -4.1421354e-01\n",
      "  9.4854027e-01 -4.1421354e-01  9.9568844e-01 -4.1421354e-01\n",
      "  8.6727762e-01 -4.1421354e-01  9.9807912e-01 -4.1421366e-01\n",
      "  9.9419045e-01 -4.1421354e-01]\n"
     ]
    }
   ],
   "source": [
    "print(pred.reshape(-1)[-30:])"
   ]
  },
  {
   "cell_type": "code",
   "execution_count": 18,
   "metadata": {},
   "outputs": [
    {
     "data": {
      "image/png": "[encoded data removed]",
      "text/plain": [
       "<Figure size 432x288 with 1 Axes>"
      ]
     },
     "metadata": {},
     "output_type": "display_data"
    }
   ],
   "source": [
    "from sklearn.metrics import roc_curve, auc\n",
    "\n",
    "fpr, tpr, thresholds = roc_curve(true, pred)\n",
    "roc_auc = auc(fpr, tpr)\n",
    "plt.grid()\n",
    "plt.plot(fpr, tpr, label=f'AUC={roc_auc:0.2f}')\n",
    "plt.legend()\n",
    "plt.show()"
   ]
  },
  {
   "cell_type": "code",
   "execution_count": 19,
   "metadata": {},
   "outputs": [
    {
     "data": {
      "text/plain": [
       "[<keras.engine.topology.InputLayer at 0x7fbbb61a4978>,\n",
       " <keras.engine.topology.InputLayer at 0x7fbbb61a4940>,\n",
       " <keras.models.Sequential at 0x7fbbb61a4e48>,\n",
       " <keras.layers.core.Lambda at 0x7fbbb61a4a90>]"
      ]
     },
     "execution_count": 19,
     "metadata": {},
     "output_type": "execute_result"
    }
   ],
   "source": [
    "model.layers"
   ]
  },
  {
   "cell_type": "code",
   "execution_count": 20,
   "metadata": {},
   "outputs": [],
   "source": [
    "descr = model.layers[2]\n",
    "embeddings = descr.predict(inputs[1])"
   ]
  },
  {
   "cell_type": "code",
   "execution_count": 21,
   "metadata": {},
   "outputs": [
    {
     "data": {
      "text/plain": [
       "4996.999890327454"
      ]
     },
     "execution_count": 21,
     "metadata": {},
     "output_type": "execute_result"
    }
   ],
   "source": [
    "from numpy.linalg import norm\n",
    "\n",
    "sum(norm(e) for e in embeddings)"
   ]
  },
  {
   "cell_type": "code",
   "execution_count": 22,
   "metadata": {},
   "outputs": [],
   "source": [
    "x = 121"
   ]
  },
  {
   "cell_type": "code",
   "execution_count": 23,
   "metadata": {},
   "outputs": [
    {
     "data": {
      "image/png": "[encoded data removed]",
      "text/plain": [
       "<Figure size 432x288 with 1 Axes>"
      ]
     },
     "metadata": {},
     "output_type": "display_data"
    }
   ],
   "source": [
    "plt.imshow(inputs[1][x].reshape(64, 64));"
   ]
  },
  {
   "cell_type": "code",
   "execution_count": 24,
   "metadata": {},
   "outputs": [
    {
     "data": {
      "image/png": "[encoded data removed]",
      "text/plain": [
       "<Figure size 432x288 with 1 Axes>"
      ]
     },
     "metadata": {},
     "output_type": "display_data"
    }
   ],
   "source": [
    "plt.imshow(inputs[0][x].reshape(64, 64));"
   ]
  },
  {
   "cell_type": "code",
   "execution_count": 62,
   "metadata": {},
   "outputs": [
    {
     "data": {
      "text/plain": [
       "array([-0.41421354], dtype=float32)"
      ]
     },
     "execution_count": 62,
     "metadata": {},
     "output_type": "execute_result"
    }
   ],
   "source": [
    "pred[x]"
   ]
  }
 ],
 "metadata": {
  "kernelspec": {
   "display_name": "Python 3",
   "language": "python",
   "name": "python3"
  },
  "language_info": {
   "codemirror_mode": {
    "name": "ipython",
    "version": 3
   },
   "file_extension": ".py",
   "mimetype": "text/x-python",
   "name": "python",
   "nbconvert_exporter": "python",
   "pygments_lexer": "ipython3",
   "version": "3.6.3"
  }
 },
 "nbformat": 4,
 "nbformat_minor": 2
}
